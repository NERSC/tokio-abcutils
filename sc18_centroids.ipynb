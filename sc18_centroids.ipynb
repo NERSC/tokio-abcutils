{
 "cells": [
  {
   "cell_type": "code",
   "execution_count": null,
   "metadata": {},
   "outputs": [],
   "source": [
    "%matplotlib inline\n",
    "%load_ext autoreload"
   ]
  },
  {
   "cell_type": "code",
   "execution_count": null,
   "metadata": {},
   "outputs": [],
   "source": [
    "%autoreload 2"
   ]
  },
  {
   "cell_type": "code",
   "execution_count": null,
   "metadata": {},
   "outputs": [],
   "source": [
    "import os\n",
    "import time\n",
    "import datetime\n",
    "import warnings\n",
    "import matplotlib\n",
    "matplotlib.rcParams.update({'font.size': 16})\n",
    "import pandas\n",
    "import numpy\n",
    "import scipy.stats\n",
    "import abcutils"
   ]
  },
  {
   "cell_type": "markdown",
   "metadata": {},
   "source": [
    "## Load and Synthesize Data from CSV\n",
    "\n",
    "This process loads each summary CSV file, creates a few derived metrics, and then merges each system's CSV into a single global dataset that can be sliced and diced by system, benchmark, or any other way.  We are now caching the processed CSV in HDF5 format to speed up initial data ingest at the beginning of each analysis.  Delete the `CACHE_FILE` to re-generate this cache (e.g., when the contents of the CSV are updated)."
   ]
  },
  {
   "cell_type": "code",
   "execution_count": null,
   "metadata": {
    "scrolled": true
   },
   "outputs": [],
   "source": [
    "filtered_df = abcutils.sc18paper.load_dataset()"
   ]
  },
  {
   "cell_type": "markdown",
   "metadata": {},
   "source": [
    "## Demonstrate a Single Test Platform\n",
    "\n",
    "Look at one combination of (compute system, file system, benchmark) to show what this UMAMI analysis can do.\n",
    "\n",
    "### Define Input Parameters"
   ]
  },
  {
   "cell_type": "code",
   "execution_count": null,
   "metadata": {
    "scrolled": true
   },
   "outputs": [],
   "source": [
    "# TEST_PLATFORM = 'scratch2@edison'\n",
    "# TEST_PLATFORM = 'cscratch@cori-knl'\n",
    "# TEST_PLATFORM = 'cscratch@cori-haswell'\n",
    "TEST_PLATFORM = 'mira-fs1@mira'\n",
    "\n",
    "# BENCHMARK_ID = 'ior_fpp_write'\n",
    "# BENCHMARK_ID = 'ior_fpp_read'\n",
    "# BENCHMARK_ID = 'dbscan_read_shared_read'\n",
    "# BENCHMARK_ID = 'vpicio_uni_shared_write'\n",
    "# BENCHMARK_ID = 'ior_shared_write'\n",
    "# BENCHMARK_ID = 'ior_shared_read'\n",
    "# BENCHMARK_ID = 'hacc_io_read_fpp_read'\n",
    "BENCHMARK_ID = 'hacc_io_write_fpp_write'\n",
    "\n",
    "plot_metric = 'darshan_normalized_perf_by_max'\n",
    "delta = datetime.timedelta(days=1).total_seconds()\n",
    "\n",
    "example_df = filtered_df.groupby(by=['_test_platform', '_benchmark_id']).get_group((TEST_PLATFORM, BENCHMARK_ID)).copy()\n",
    "example_df = filtered_df.groupby(by=['_test_platform']).get_group((TEST_PLATFORM)).copy()\n",
    "\n",
    "print \"test_platform =\", TEST_PLATFORM\n",
    "print \"benchmark_id =\", abcutils.CONFIG['benchmark_labels'].get(BENCHMARK_ID, BENCHMARK_ID)\n",
    "print \"plot_metric =\", abcutils.CONFIG['metric_labels'].get(plot_metric, plot_metric)\n",
    "print \"date_start =\", abcutils.sc18paper.DATE_START.isoformat()\n",
    "print \"date_end =\", abcutils.sc18paper.DATE_END.isoformat()"
   ]
  },
  {
   "cell_type": "code",
   "execution_count": null,
   "metadata": {},
   "outputs": [],
   "source": [
    "# Metrics to include in UMAMI renderings and analysis.  Anything that\n",
    "# _might_ affect performance should be included here.\n",
    "umami_rows = [\n",
    "    'darshan_normalized_perf_by_max',\n",
    "    'coverage_factor_bw',\n",
    "#   'coverage_factor_nodehrs',\n",
    "    'coverage_factor_opens',\n",
    "    'coverage_factor_stats',\n",
    "    'coverage_factor_ops',\n",
    "    'fs_ave_mds_cpu',\n",
    "#   'fs_tot_metadata_ops',\n",
    "    'fs_ave_oss_cpu',\n",
    "#   'fs_tot_open_ops',\n",
    "    'fshealth_ost_most_full_pct',\n",
    "    'fshealth_ost_overloaded_oss_count',\n",
    "#   'jobsdb_concurrent_nodes',\n",
    "    'topology_job_max_radius',\n",
    "]"
   ]
  },
  {
   "cell_type": "markdown",
   "metadata": {},
   "source": [
    "## Region-defined Correlation"
   ]
  },
  {
   "cell_type": "code",
   "execution_count": null,
   "metadata": {},
   "outputs": [],
   "source": [
    "# Width of simple moving average (SMA) short/long windows\n",
    "SHORT_WINDOW = pandas.Timedelta(days=14)\n",
    "LONG_WINDOW = pandas.Timedelta(days=48)\n",
    "\n",
    "print \"Short window will average over %s at a time\" % SHORT_WINDOW\n",
    "print \"Long window will average over %s at a time\" % LONG_WINDOW"
   ]
  },
  {
   "cell_type": "markdown",
   "metadata": {},
   "source": [
    "## Calculate intercepts and centroids from SMAs\n",
    "\n",
    "* **Intercepts** are the place where two SMAs cross each other\n",
    "* **Performance regions** are the data bounded by two intercepts\n",
    "* **Centroids** are the centermost data point in a performance region\n",
    "\n",
    "With this nomenclature, it is possible to also define **centroid regions** which are bounded by two centroids.  These regions capture the transition between two performance regions."
   ]
  },
  {
   "cell_type": "code",
   "execution_count": null,
   "metadata": {},
   "outputs": [],
   "source": [
    "sma_short = abcutils.features.calculate_sma(example_df, '_datetime_start', plot_metric, window=SHORT_WINDOW)\n",
    "sma_long = pandas.Series([example_df[plot_metric].mean()] * len(sma_short), index=sma_short.index, name=sma_short.name)"
   ]
  },
  {
   "cell_type": "code",
   "execution_count": null,
   "metadata": {
    "scrolled": false
   },
   "outputs": [],
   "source": [
    "sma_intercepts = abcutils.features.sma_intercepts(example_df,\n",
    "                                                  plot_metric,\n",
    "                                                  short_window=SHORT_WINDOW,\n",
    "                                                  long_window=LONG_WINDOW,\n",
    "                                                  min_width=SHORT_WINDOW)\n",
    "sma_intercepts"
   ]
  },
  {
   "cell_type": "code",
   "execution_count": null,
   "metadata": {
    "scrolled": false
   },
   "outputs": [],
   "source": [
    "sma_centroids = abcutils.features.sma_centroids(example_df,\n",
    "                                                plot_metric,\n",
    "                                                short_window=SHORT_WINDOW,\n",
    "                                                long_window=LONG_WINDOW,\n",
    "                                                min_width=None)\n",
    "sma_centroids"
   ]
  },
  {
   "cell_type": "markdown",
   "metadata": {},
   "source": [
    "### Visualize intercepts and centroids\n",
    "Plot the SMAs, performance regions, and centroids as a visual sanity check."
   ]
  },
  {
   "cell_type": "code",
   "execution_count": null,
   "metadata": {},
   "outputs": [],
   "source": [
    "ax = abcutils.plot.sma_overlaps(dataframe=example_df,\n",
    "                                plot_metric=plot_metric,\n",
    "                                short_window=SHORT_WINDOW,\n",
    "                                long_window=LONG_WINDOW,\n",
    "                                sma_intercepts=sma_intercepts,\n",
    "                                method='value')\n",
    "\n",
    "xmin, xmax = ax.get_xlim()\n",
    "ax.set_xlim(xmin, xmax)\n",
    "\n",
    "ymin, ymax = ax.get_ylim()\n",
    "for x in sma_centroids['_datetime_start']:\n",
    "    ax.plot([abcutils.core.pd2epoch(x), abcutils.core.pd2epoch(x)], [ymin, ymax], color='black')\n",
    "    \n",
    "abcutils.plot.fix_xticks_timeseries(ax)\n",
    "\n",
    "print \"\"\"\n",
    "This plot shows the SMA performance regions (grey) and centroids (red).\n",
    "Transition regions fall between every consecutive red centroid but are\n",
    "not shaded.\n",
    "\"\"\""
   ]
  },
  {
   "cell_type": "markdown",
   "metadata": {},
   "source": [
    "### Filter centroids\n",
    "\n",
    "We only care about centroids that show a significant swing in performance."
   ]
  },
  {
   "cell_type": "code",
   "execution_count": null,
   "metadata": {},
   "outputs": [],
   "source": [
    "ax = abcutils.plot.sma_overlaps(dataframe=example_df,\n",
    "                                plot_metric=plot_metric,\n",
    "                                short_window=SHORT_WINDOW,\n",
    "                                long_window=LONG_WINDOW,\n",
    "                                sma_intercepts=sma_centroids,\n",
    "                                method='value')\n",
    "xmin, xmax = ax.get_xlim()\n",
    "ax.set_xlim(xmin, xmax)\n",
    "ymin, ymax = ax.set_ylim(0, 1)\n",
    "for x in sma_centroids['_datetime_start']:\n",
    "    ax.plot([abcutils.core.pd2epoch(x), abcutils.core.pd2epoch(x)], [ymin, ymax], color='black')\n",
    "    \n",
    "abcutils.plot.fix_xticks_timeseries(ax)\n",
    "print \"Now we plot the centroid-defined regions\""
   ]
  },
  {
   "cell_type": "code",
   "execution_count": null,
   "metadata": {},
   "outputs": [],
   "source": [
    "cutoff = 0.10\n",
    "\n",
    "regions = list(abcutils.features.intercepts_to_region(example_df, sma_centroids))\n",
    "\n",
    "centroid_regions = [] \n",
    "for index, region in enumerate(regions):\n",
    "    # index+1 should always be valid for sma_centroids since regions[0] has one fewer region than boundaries\n",
    "    this_value = sma_centroids.iloc[index]['sma_short']\n",
    "    next_value = sma_centroids.iloc[index+1]['sma_short']\n",
    "    centroid_delta = next_value - this_value\n",
    "    centroid_delta /= next_value\n",
    "    if abs(centroid_delta) >= cutoff:\n",
    "        centroid_regions.append(region)\n",
    "        ax.plot(abcutils.core.pd2epoch(sma_centroids.iloc[index]['_datetime_start']), this_value, marker='o', color='red')\n",
    "        ax.plot(abcutils.core.pd2epoch(sma_centroids.iloc[index+1]['_datetime_start']), next_value, marker='8', color='red')\n",
    "    print \"%s: %5s %7.4f %8.3f %5.3f\" % (\n",
    "        region.iloc[0]['_datetime_start'],\n",
    "        abs(centroid_delta) >= cutoff,\n",
    "        centroid_delta,\n",
    "        this_value,\n",
    "        next_value)\n",
    "\n",
    "print \"\\nFlagged regions\"\n",
    "if not centroid_regions:\n",
    "    print \"  (none)\"\n",
    "else:\n",
    "    for region in centroid_regions:\n",
    "        print region.iloc[0]['_datetime_start'], 'to', region.iloc[-1]['_datetime_start']"
   ]
  },
  {
   "cell_type": "code",
   "execution_count": null,
   "metadata": {},
   "outputs": [],
   "source": [
    "ax.get_figure()"
   ]
  },
  {
   "cell_type": "code",
   "execution_count": null,
   "metadata": {},
   "outputs": [],
   "source": [
    "ax = abcutils.plot.sma_overlaps(dataframe=example_df,\n",
    "                                plot_metric=plot_metric,\n",
    "                                short_window=SHORT_WINDOW,\n",
    "                                long_window=LONG_WINDOW,\n",
    "                                sma_intercepts=sma_intercepts[0:1],\n",
    "                                method='value')\n",
    "\n",
    "## Plot regions\n",
    "min_y, max_y = ax.set_ylim(0, 1)\n",
    "regions_shown = 0\n",
    "for region in centroid_regions:\n",
    "    min_x = abcutils.core.pd2epoch(region.iloc[0]['_datetime_start'])\n",
    "    max_x = abcutils.core.pd2epoch(region.iloc[-1]['_datetime_start'])\n",
    "    ax.add_patch(matplotlib.patches.Rectangle(xy=(min_x, min_y),\n",
    "                 width=(max_x - min_x),\n",
    "                 height=(max_y - min_y),\n",
    "                 facecolor='black',\n",
    "                 linewidth=0,\n",
    "                 alpha=0.10,\n",
    "                 zorder=0))\n",
    "    ax.plot([min_x, min_x], [min_y, max_y], color='red')\n",
    "    ax.plot([max_x, max_x], [min_y, max_y], color='red')\n",
    "\n",
    "abcutils.plot.fix_xticks_timeseries(ax)"
   ]
  },
  {
   "cell_type": "code",
   "execution_count": null,
   "metadata": {
    "scrolled": false
   },
   "outputs": [],
   "source": [
    "pcutoff = 1.0e-5\n",
    "results = {\n",
    "    'region_start': [],\n",
    "    'region_end': [],\n",
    "    'region_start_index': [],\n",
    "    'region_end_index': [],\n",
    "    'metric': [],\n",
    "    'coeff': [],\n",
    "    'pvalue': [],\n",
    "    'region_points': []\n",
    "}\n",
    "identified_regions = []\n",
    "\n",
    "for region in centroid_regions:\n",
    "    x = region[plot_metric].values\n",
    "    base_nan_filter = numpy.isnan(x)\n",
    "    title = \"%s - %s (%d points)\" % (\n",
    "        region.iloc[0]['_datetime_start'],\n",
    "        region.iloc[-1]['_datetime_start'],\n",
    "        len(x[~base_nan_filter])\n",
    "    )\n",
    "    print \"new region:\", title\n",
    "    identified = False\n",
    "    for y_label in umami_rows: #example_df.columns: #umami_rows:\n",
    "        if y_label == plot_metric:\n",
    "            continue\n",
    "        y = example_df.loc[region.index][y_label].values\n",
    "        try:\n",
    "            nan_filter = base_nan_filter | numpy.isnan(y)\n",
    "        except TypeError:\n",
    "            # non-numeric; pass\n",
    "            continue\n",
    "        this_x = x[~nan_filter]\n",
    "        this_y = y[~nan_filter]\n",
    "        if len(this_y) > 0:\n",
    "            coeff, pval = scipy.stats.pearsonr(this_x, this_y)\n",
    "            if pval < pcutoff and coeff < 0.9999:\n",
    "                results['region_start'].append(region.iloc[0]['_datetime_start'])\n",
    "                results['region_end'].append(region.iloc[-1]['_datetime_start'])\n",
    "                results['region_start_index'].append(region.index[0])\n",
    "                results['region_end_index'].append(region.index[-1])\n",
    "                results['metric'].append(y_label)\n",
    "                results['coeff'].append(coeff)\n",
    "                results['pvalue'].append(pval)\n",
    "                results['region_points'].append(len(x[~base_nan_filter]))\n",
    "                fig, ax = matplotlib.pyplot.subplots()\n",
    "                ax.scatter(this_x, this_y)\n",
    "                ax.set_xlabel(abcutils.CONFIG['metric_labels'].get(plot_metric, plot_metric))\n",
    "                ax.set_ylabel(abcutils.CONFIG['metric_labels'].get(y_label, y_label).replace(' (', '\\n('))\n",
    "                ax.grid()\n",
    "                fit = scipy.stats.linregress(this_x, this_y)\n",
    "                ax.set_xlim(ax.get_xlim())\n",
    "                ax.plot(ax.get_xticks(),\n",
    "                        [fit.slope * xi + fit.intercept for xi in ax.get_xticks()],\n",
    "                        color='C2',\n",
    "                       linewidth=3)\n",
    "                print \"    Fit for\", y_label, title\n",
    "                print \"    Coefficient: %12.4f\" % coeff\n",
    "                print \"    p-value:     %12.4e\" % pval\n",
    "                print \"    Slope:       %12.4f\" % fit.slope\n",
    "                print \"    Rval:        %12.4e\" % fit.rvalue\n",
    "                print\n",
    "                identified = True\n",
    "\n",
    "    # Keep track of regions that have known root causes\n",
    "    if identified:\n",
    "        identified_regions.append(region)\n",
    "    print\n",
    "\n",
    "results_df = pandas.DataFrame.from_dict(results)\n",
    "results_df"
   ]
  },
  {
   "cell_type": "markdown",
   "metadata": {},
   "source": [
    "## Plot identified region(s)"
   ]
  },
  {
   "cell_type": "code",
   "execution_count": null,
   "metadata": {},
   "outputs": [],
   "source": [
    "ax = abcutils.plot.sma_overlaps(dataframe=example_df,\n",
    "                                plot_metric=plot_metric,\n",
    "                                short_window=SHORT_WINDOW,\n",
    "                                long_window=LONG_WINDOW,\n",
    "                                sma_intercepts=sma_intercepts[0:1],\n",
    "                                method='value')\n",
    "\n",
    "ax.set_ylim(0, 1.0)\n",
    "\n",
    "## Plot regions identified via correlation analysis\n",
    "min_y, max_y = ax.get_ylim()\n",
    "overall_min_x = None\n",
    "overall_max_x = None\n",
    "for region in identified_regions:\n",
    "    min_x = abcutils.core.pd2epoch(region.iloc[0]['_datetime_start'])\n",
    "    max_x = abcutils.core.pd2epoch(region.iloc[-1]['_datetime_start'])\n",
    "    if not overall_min_x or overall_min_x > min_x:\n",
    "        overall_min_x = min_x\n",
    "    if not overall_max_x or overall_max_x > max_x:\n",
    "        overall_max_x = max_x\n",
    "    ax.add_patch(matplotlib.patches.Rectangle(xy=(min_x, min_y),\n",
    "                 width=(max_x - min_x),\n",
    "                 height=(max_y - min_y),\n",
    "                 facecolor='red',\n",
    "                 linewidth=0,\n",
    "                 alpha=0.10,\n",
    "                 zorder=0))\n",
    "\n",
    "ax.set_xlim(overall_min_x - (overall_max_x - overall_min_x)*2,\n",
    "            overall_max_x + (overall_max_x - overall_min_x)*1)\n",
    "ax.get_figure().set_size_inches(6, 4)\n",
    "ax.set_ylabel(ax.get_ylabel().replace(\"\\n\", \" \"))\n",
    "\n",
    "abcutils.plot.fix_xticks_timeseries(ax, criteria=(lambda x: x.day == 1))"
   ]
  },
  {
   "cell_type": "markdown",
   "metadata": {},
   "source": [
    "## Plot for paper"
   ]
  },
  {
   "cell_type": "code",
   "execution_count": null,
   "metadata": {},
   "outputs": [],
   "source": [
    "fig, axes = matplotlib.pyplot.subplots(nrows=2, ncols=1, figsize=(8, 6))\n",
    "\n",
    "region = results_df.iloc[0]\n",
    "region_df = example_df.loc[region['region_start_index']:region['region_end_index']]\n",
    "\n",
    "# Plot #1\n",
    "ax = axes[0]\n",
    "ax.set_title(\"(a)\", x=0.07, y=0.05)\n",
    "\n",
    "abcutils.plot.sma_overlaps(dataframe=example_df,\n",
    "                                plot_metric=plot_metric,\n",
    "                                short_window=SHORT_WINDOW,\n",
    "                                long_window=LONG_WINDOW,\n",
    "                                sma_intercepts=sma_intercepts[0:1],\n",
    "                                method='value',\n",
    "                                ax=ax)\n",
    "ax.set_ylim(0, 1)\n",
    "min_y, max_y = ax.get_ylim()\n",
    "overall_min_x = None\n",
    "overall_max_x = None\n",
    "min_x = abcutils.core.pd2epoch(region_df.iloc[0]['_datetime_start'])\n",
    "max_x = abcutils.core.pd2epoch(region_df.iloc[-1]['_datetime_start'])\n",
    "ax.add_patch(matplotlib.patches.Rectangle(xy=(min_x, min_y),\n",
    "             width=(max_x - min_x),\n",
    "             height=(max_y - min_y),\n",
    "             facecolor='red',\n",
    "             linewidth=0,\n",
    "             alpha=0.10,\n",
    "             zorder=0))\n",
    "ax.set_xlim(min_x - (max_x - min_x)*2,\n",
    "            max_x + (max_x - min_x)*1)\n",
    "ax.set_ylabel(ax.get_ylabel().replace(\"\\n\", \" \"))\n",
    "\n",
    "ax.get_lines()[0].set_label(\"$SMA_{%d}$\" % SHORT_WINDOW.days)\n",
    "ax.get_lines()[1].set_label(\"$SMA_{%d}$\" % LONG_WINDOW.days)\n",
    "ax.legend(loc='lower right')\n",
    "\n",
    "abcutils.plot.fix_xticks_timeseries(ax, format=\"%b %d\", rotation=0, ha='center')\n",
    "\n",
    "# Plot #2\n",
    "ax = axes[1]\n",
    "ax.set_title(\"(b)\", x=0.07, y=0.8)\n",
    "\n",
    "xval = region_df[plot_metric]\n",
    "yval = region_df[region['metric']]\n",
    "nan_filter = numpy.isnan(xval) | numpy.isnan(yval)\n",
    "xval = xval[~nan_filter].values\n",
    "yval = yval[~nan_filter].values\n",
    "\n",
    "ax.scatter(xval, yval, color='C0', alpha=0.75)\n",
    "ax.set_xlabel(abcutils.CONFIG['metric_labels'].get(plot_metric, plot_metric))\n",
    "ax.set_ylabel(abcutils.CONFIG['metric_labels'].get(region['metric'], region['metric']).replace(' (', '\\n('))\n",
    "ax.grid()\n",
    "ax.set_ylim(0, 1)\n",
    "ax.set_yticks([0, .25, .5, .75, 1.])\n",
    "fit = scipy.stats.linregress(xval, yval)\n",
    "ax.set_xlim(ax.get_xlim())\n",
    "ax.plot(ax.get_xticks(),\n",
    "        [fit.slope * xi + fit.intercept for xi in ax.get_xticks()],\n",
    "        color='black',\n",
    "        linestyle='--',\n",
    "        linewidth=2)"
   ]
  },
  {
   "cell_type": "code",
   "execution_count": null,
   "metadata": {},
   "outputs": [],
   "source": []
  },
  {
   "cell_type": "code",
   "execution_count": null,
   "metadata": {},
   "outputs": [],
   "source": []
  },
  {
   "cell_type": "code",
   "execution_count": null,
   "metadata": {},
   "outputs": [],
   "source": []
  }
 ],
 "metadata": {
  "kernelspec": {
   "display_name": "Python 2",
   "language": "python",
   "name": "python2"
  },
  "language_info": {
   "codemirror_mode": {
    "name": "ipython",
    "version": 2
   },
   "file_extension": ".py",
   "mimetype": "text/x-python",
   "name": "python",
   "nbconvert_exporter": "python",
   "pygments_lexer": "ipython2",
   "version": "2.7.14"
  }
 },
 "nbformat": 4,
 "nbformat_minor": 2
}
