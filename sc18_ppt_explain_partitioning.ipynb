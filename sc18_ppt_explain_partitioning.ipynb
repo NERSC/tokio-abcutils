{
 "cells": [
  {
   "cell_type": "code",
   "execution_count": null,
   "metadata": {},
   "outputs": [],
   "source": [
    "%matplotlib inline"
   ]
  },
  {
   "cell_type": "code",
   "execution_count": null,
   "metadata": {},
   "outputs": [],
   "source": [
    "import os\n",
    "import time\n",
    "import datetime\n",
    "import warnings\n",
    "import matplotlib\n",
    "matplotlib.rcParams.update({'font.size': 16})\n",
    "import pandas\n",
    "import numpy\n",
    "import scipy.stats\n",
    "import abcutils"
   ]
  },
  {
   "cell_type": "markdown",
   "metadata": {},
   "source": [
    "## Load and Synthesize Data from CSV\n",
    "\n",
    "This process loads each summary CSV file, creates a few derived metrics, and then merges each system's CSV into a single global dataset that can be sliced and diced by system, benchmark, or any other way.  We are now caching the processed CSV in HDF5 format to speed up initial data ingest at the beginning of each analysis.  Delete the `CACHE_FILE` to re-generate this cache (e.g., when the contents of the CSV are updated)."
   ]
  },
  {
   "cell_type": "code",
   "execution_count": null,
   "metadata": {
    "scrolled": true
   },
   "outputs": [],
   "source": [
    "filtered_df = abcutils.sc18paper.load_dataset()"
   ]
  },
  {
   "cell_type": "markdown",
   "metadata": {},
   "source": [
    "## Demonstrate a Single Test Platform\n",
    "\n",
    "Look at one combination of (compute system, file system, benchmark) to show what this UMAMI analysis can do.\n",
    "\n",
    "### Define Input Parameters"
   ]
  },
  {
   "cell_type": "code",
   "execution_count": null,
   "metadata": {
    "scrolled": true
   },
   "outputs": [],
   "source": [
    "plot_metric = 'darshan_normalized_perf_by_max'\n",
    "delta = datetime.timedelta(days=1).total_seconds()\n",
    "\n",
    "print(\"plot_metric =\", abcutils.CONFIG['metric_labels'].get(plot_metric, plot_metric))\n",
    "print(\"date_start =\", abcutils.sc18paper.DATE_START.isoformat())\n",
    "print(\"date_end =\", abcutils.sc18paper.DATE_END.isoformat())"
   ]
  },
  {
   "cell_type": "markdown",
   "metadata": {},
   "source": [
    "## Region-defined Correlation"
   ]
  },
  {
   "cell_type": "code",
   "execution_count": null,
   "metadata": {},
   "outputs": [],
   "source": [
    "# Width of simple moving average (SMA) short/long windows\n",
    "SHORT_WINDOW = pandas.Timedelta(days=14)\n",
    "LONG_WINDOW = pandas.Timedelta(days=49)\n",
    "\n",
    "print(\"Short window will average over %s at a time\" % SHORT_WINDOW)\n",
    "print(\"Long window will average over %s at a time\" % LONG_WINDOW)"
   ]
  },
  {
   "cell_type": "markdown",
   "metadata": {},
   "source": [
    "## Build diagrams illustrating how timeseries is partitioned"
   ]
  },
  {
   "cell_type": "code",
   "execution_count": null,
   "metadata": {},
   "outputs": [],
   "source": [
    "# test_platform = 'cscratch@cori-knl'\n",
    "test_platform = 'mira-fs1@mira'\n",
    "\n",
    "example_df = filtered_df.groupby(by=['_test_platform']).get_group((test_platform))\n",
    "sma_intercepts = abcutils.features.sma_intercepts(example_df,\n",
    "                                                  plot_metric,\n",
    "                                                  short_window=SHORT_WINDOW,\n",
    "                                                  long_window=LONG_WINDOW)"
   ]
  },
  {
   "cell_type": "code",
   "execution_count": null,
   "metadata": {},
   "outputs": [],
   "source": [
    "def sma_overlaps(**kwargs):\n",
    "    ax = abcutils.plot.sma_overlaps(**kwargs)\n",
    "\n",
    "    # fix all the crap that plot.sma_overlaps doesn't do itself\n",
    "    ax.set_yticks(numpy.arange(0, 1.2, 0.25))\n",
    "    ax.set_xlim(\n",
    "        time.mktime(abcutils.sc18paper.DATE_START.timetuple()),\n",
    "        time.mktime(abcutils.sc18paper.DATE_END.timetuple()))\n",
    "    ax.set_xlim(\n",
    "        time.mktime(datetime.datetime(2017, 8, 1).timetuple()),\n",
    "        time.mktime(datetime.datetime(2018, 1, 1).timetuple()))\n",
    "    abcutils.plot.fix_xticks_timeseries(ax)\n",
    "    ax.set_ylabel(ax.get_ylabel().replace(\"\\n\", \" \"))\n",
    "    ax.set_ylim(0.5, 1.0)\n",
    "    ax.get_figure().set_size_inches((8, 4))"
   ]
  },
  {
   "cell_type": "code",
   "execution_count": null,
   "metadata": {},
   "outputs": [],
   "source": [
    "sma_overlaps(dataframe=example_df,\n",
    "             plot_metric=plot_metric,\n",
    "             short_window=SHORT_WINDOW,\n",
    "             long_window=LONG_WINDOW,\n",
    "             sma_intercepts=None)"
   ]
  },
  {
   "cell_type": "code",
   "execution_count": null,
   "metadata": {},
   "outputs": [],
   "source": [
    "sma_overlaps(dataframe=example_df,\n",
    "             plot_metric=plot_metric,\n",
    "             short_window=SHORT_WINDOW,\n",
    "             long_window=LONG_WINDOW,\n",
    "             sma_intercepts=sma_intercepts,\n",
    "             linestyle='--',\n",
    "             linewidth=1,\n",
    "             regioncolors=['#00000000', '#00000000'])"
   ]
  },
  {
   "cell_type": "code",
   "execution_count": null,
   "metadata": {},
   "outputs": [],
   "source": [
    "sma_overlaps(dataframe=example_df,\n",
    "             plot_metric=plot_metric,\n",
    "             short_window=SHORT_WINDOW,\n",
    "             long_window=LONG_WINDOW,\n",
    "             sma_intercepts=sma_intercepts,\n",
    "             linestyle='--',\n",
    "             linewidth=1,\n",
    "             regioncolors=['#0A00000A', '#FFFFFF00'])"
   ]
  },
  {
   "cell_type": "code",
   "execution_count": null,
   "metadata": {},
   "outputs": [],
   "source": []
  }
 ],
 "metadata": {
  "kernelspec": {
   "display_name": "Python 2",
   "language": "python",
   "name": "python2"
  },
  "language_info": {
   "codemirror_mode": {
    "name": "ipython",
    "version": 2
   },
   "file_extension": ".py",
   "mimetype": "text/x-python",
   "name": "python",
   "nbconvert_exporter": "python",
   "pygments_lexer": "ipython2",
   "version": "2.7.15"
  }
 },
 "nbformat": 4,
 "nbformat_minor": 2
}
