{
 "cells": [
  {
   "cell_type": "code",
   "execution_count": null,
   "metadata": {},
   "outputs": [],
   "source": [
    "%matplotlib inline\n",
    "%load_ext autoreload"
   ]
  },
  {
   "cell_type": "code",
   "execution_count": null,
   "metadata": {},
   "outputs": [],
   "source": [
    "%autoreload 2"
   ]
  },
  {
   "cell_type": "code",
   "execution_count": null,
   "metadata": {},
   "outputs": [],
   "source": [
    "import os\n",
    "import time\n",
    "import datetime\n",
    "import warnings\n",
    "import matplotlib\n",
    "matplotlib.rcParams.update({'font.size': 16})\n",
    "import pandas\n",
    "import numpy\n",
    "import scipy.stats\n",
    "import abcutils"
   ]
  },
  {
   "cell_type": "markdown",
   "metadata": {},
   "source": [
    "## Load and Synthesize Data from CSV\n",
    "\n",
    "This process loads each summary CSV file, creates a few derived metrics, and then merges each system's CSV into a single global dataset that can be sliced and diced by system, benchmark, or any other way.  We are now caching the processed CSV in HDF5 format to speed up initial data ingest at the beginning of each analysis.  Delete the `CACHE_FILE` to re-generate this cache (e.g., when the contents of the CSV are updated)."
   ]
  },
  {
   "cell_type": "code",
   "execution_count": null,
   "metadata": {
    "scrolled": true
   },
   "outputs": [],
   "source": [
    "filtered_df = abcutils.sc18paper.load_dataset()"
   ]
  },
  {
   "cell_type": "markdown",
   "metadata": {},
   "source": [
    "## Demonstrate a Single Test Platform\n",
    "\n",
    "Look at one combination of (compute system, file system, benchmark) to show what this UMAMI analysis can do.\n",
    "\n",
    "### Define Input Parameters"
   ]
  },
  {
   "cell_type": "code",
   "execution_count": null,
   "metadata": {
    "scrolled": true
   },
   "outputs": [],
   "source": [
    "# TEST_PLATFORM = 'scratch2@edison'\n",
    "TEST_PLATFORM = 'cscratch@cori-knl'\n",
    "#TEST_PLATFORM = 'cscratch@cori-haswell'\n",
    "TEST_PLATFORM = 'mira-fs1@mira'\n",
    "\n",
    "BENCHMARK_ID = 'ior_fpp_write'\n",
    "# BENCHMARK_ID = 'dbscan_read_shared_read'\n",
    "# BENCHMARK_ID = 'vpicio_uni_shared_write'\n",
    "# BENCHMARK_ID = 'ior_shared_write'\n",
    "# BENCHMARK_ID = 'hacc_io_read_fpp_read'\n",
    "\n",
    "plot_metric = 'darshan_agg_perf_by_slowest_posix_gibs'\n",
    "delta = datetime.timedelta(days=1).total_seconds()\n",
    "\n",
    "group_by = ['_test_platform', '_benchmark_id']\n",
    "\n",
    "example_df = filtered_df.groupby(by=group_by).get_group((TEST_PLATFORM, BENCHMARK_ID)).copy()\n",
    "\n",
    "print \"test_platform =\", TEST_PLATFORM\n",
    "print \"benchmark_id =\", abcutils.CONFIG['benchmark_labels'].get(BENCHMARK_ID, BENCHMARK_ID)\n",
    "print \"plot_metric =\", abcutils.CONFIG['metric_labels'].get(plot_metric, plot_metric)\n",
    "print \"date_start =\", abcutils.sc18paper.DATE_START.isoformat()\n",
    "print \"date_end =\", abcutils.sc18paper.DATE_END.isoformat()"
   ]
  },
  {
   "cell_type": "code",
   "execution_count": null,
   "metadata": {},
   "outputs": [],
   "source": [
    "# Width of simple moving average (SMA) short/long windows\n",
    "short_window = abcutils.features.SHORT_WINDOW\n",
    "long_window = abcutils.features.LONG_WINDOW\n",
    "\n",
    "print \"Short window will average over %d measurements at a time\" % short_window\n",
    "print \"Long window will average over %d measurements at a time\" % long_window"
   ]
  },
  {
   "cell_type": "code",
   "execution_count": null,
   "metadata": {},
   "outputs": [],
   "source": [
    "# Metrics to include in UMAMI renderings and analysis.  Anything that\n",
    "# _might_ affect performance should be included here.\n",
    "umami_rows = [\n",
    "    'darshan_agg_perf_by_slowest_posix_gibs',\n",
    "    'coverage_factor_bw',\n",
    "    'coverage_factor_nodehrs',\n",
    "    'fs_ave_mds_cpu',\n",
    "    'fs_tot_metadata_ops',\n",
    "    'fs_ave_oss_cpu',\n",
    "    'fs_tot_open_ops',\n",
    "    'fshealth_ost_most_full_pct',\n",
    "    'fshealth_ost_overloaded_oss_count',\n",
    "    'jobsdb_concurrent_nodes',\n",
    "    'topology_job_max_radius',\n",
    "]"
   ]
  },
  {
   "cell_type": "markdown",
   "metadata": {},
   "source": [
    "## Calculate Simple Moving Averages (SMAs)\n",
    "\n",
    "Compare a short-window SMA and a long-window SMA and use the places where they cross over to divide the entire year into _regions_ of interesting benchmark behavior."
   ]
  },
  {
   "cell_type": "markdown",
   "metadata": {},
   "source": [
    "For each region defined above, find the _minimum_ performance observed and denote that measurement (and its associated job) as a _locus_.  We then collate all _loci_ into a set of poorly performing benchmarks that are worth contextualizing with UMAMI.\n",
    "\n",
    "We also plot the raw performance data (light blue bars), the short SMA (orange line), the long SMA (green line), and all loci (red bars) to visually verify that the loci we've identified are indeed poorly performing jobs."
   ]
  },
  {
   "cell_type": "code",
   "execution_count": null,
   "metadata": {
    "scrolled": false
   },
   "outputs": [],
   "source": [
    "loci = abcutils.features.generate_loci_sma(example_df, plot_metric, mins=True, maxes=False)\n",
    "ax = abcutils.plot.locus_summary(example_df, plot_metric, loci)\n",
    "ax.get_figure().suptitle(\"%s on %s\" % (abcutils.CONFIG['benchmark_labels'].get(BENCHMARK_ID, BENCHMARK_ID), TEST_PLATFORM))"
   ]
  },
  {
   "cell_type": "markdown",
   "metadata": {},
   "source": [
    "## Generate UMAMI Diagrams Around Loci\n",
    "\n",
    "Generate UMAMI diagrams that _end_ at each locus and have `long_window` days' of benchmark data preceding them.  Don't bother creating UMAMI diagrams for benchmarks with fewer than `short_window` benchmark data in the preceding `long_window` days.\n",
    "\n",
    "Note that this process mixes up the semantic meaning of `long_window`.  When defining loci, `long_window` refers to a number of benchmark measurements, not days.  Ideally, one benchmark runs each day so this semantic difference is trivial.  However in reality, there are days when no benchmarks are run meaning loci are defined using a series of `long_window` benchmark measurements that often span _more than_ `long_window` days.\n",
    "\n",
    "Practically speaking, this does not change very much as long as the ratio of `long_window` in days to `long_window` in benchmark measurements is close to 1.0."
   ]
  },
  {
   "cell_type": "code",
   "execution_count": null,
   "metadata": {
    "scrolled": false
   },
   "outputs": [],
   "source": [
    "max_renders = 2\n",
    "\n",
    "print \"Rendering a maximum of %d UMAMI diagrams\" % max_renders\n",
    "\n",
    "rendered = 0\n",
    "for locus in loci.itertuples():\n",
    "    region_idx0 = example_df.index.get_loc(locus.region_start)\n",
    "    region_idxf = example_df.index.get_loc(locus.region_end)\n",
    "    if locus.region_start == locus.Index and region_idx0 > 0:\n",
    "        region_idx0 -= 1\n",
    "    umami_region = example_df.iloc[region_idx0:region_idxf]\n",
    "    if len(umami_region) >= short_window:\n",
    "        abcutils.plot.generate_umami(umami_region, umami_rows, highlight_index=umami_region.index.get_loc(locus.Index))\n",
    "        rendered += 1\n",
    "        if rendered == max_renders:\n",
    "            break\n",
    "    else:\n",
    "        print \"Skipping locus at %s because it has only %d data points (%d required)\" % (umami_region['_datetime_start'], len(umami_region), short_window)"
   ]
  },
  {
   "cell_type": "markdown",
   "metadata": {},
   "source": [
    "## Tabulate frequency of different problems\n",
    "\n",
    "Because we define loci to be local minima (i.e., the worst benchmark measured in a temporally local region), all of the UMAMIs we generated above _should_ end on an extremely bad day.  To automatically identify the possible causes for bad performance at each locus, we look at all of the UMAMI metrics and flag those that also ended on extremely poor (e.g., worst quartile) values.  This is exactly the same process we used in the PDSW'17 paper's case studies, but now we have automated the process.\n",
    "\n",
    "With this method of flagging, we keep a running total of metrics that were flagged as possible culprits as we examine each locus.  Note that multiple metrics can be flagged for a single locus (e.g., low coverage factor _and_ high MDS load can both be flagged for a single benchmark run), so the sum of flags over all metrics will usually add up to more than the total number of loci."
   ]
  },
  {
   "cell_type": "code",
   "execution_count": null,
   "metadata": {},
   "outputs": [],
   "source": [
    "def print_extreme_measurements(results):\n",
    "    print \"Classified: %d\" % results['totals'].get('classified', -0)\n",
    "    print \"Unclassified: %d\" % results['totals'].get('unclassified', -0)\n",
    "    print \"Ignored: %d\" % results['totals'].get('ignored', -0)\n",
    "    print \"Errors: %d\" % results['totals'].get('errors', -0)\n",
    "    print\n",
    "    for key in reversed(sorted(results['per_metric'].keys(), key=lambda x: results['per_metric'][x])):\n",
    "        print \"%3d %s\" % (results['per_metric'][key], abcutils.CONFIG['metric_labels'].get(key, key))"
   ]
  },
  {
   "cell_type": "code",
   "execution_count": null,
   "metadata": {
    "scrolled": false
   },
   "outputs": [],
   "source": [
    "classified_extremes = abcutils.classify.classify_extreme_measurements(example_df, plot_metric, umami_rows, want_good=False)\n",
    "\n",
    "print_extreme_measurements(classified_extremes)"
   ]
  },
  {
   "cell_type": "markdown",
   "metadata": {},
   "source": [
    "## Tabulate contributors to bad performance over all tests\n",
    "\n",
    "We now apply the above analysis to the entirety of the benchmark data across all systems.\n",
    "\n",
    "Note that warnings about certain loci not being in the worst quartile indicate that the SMA-based method we use to identify local minima is not perfect.  There are a variety of other methods (including some canned algorithms) that we can swap in to improve our classification of loci."
   ]
  },
  {
   "cell_type": "code",
   "execution_count": null,
   "metadata": {
    "scrolled": false
   },
   "outputs": [],
   "source": [
    "classified_extremes = abcutils.classify.classify_extreme_measurements(filtered_df, plot_metric, umami_rows, want_good=False)\n",
    "\n",
    "print_extreme_measurements(classified_extremes)"
   ]
  },
  {
   "cell_type": "markdown",
   "metadata": {},
   "source": [
    "The following bar graph shows the total number of times each metric has been flagged as a possible source of performance loss as defined above: its value was \"bad\" coincident with each locus, where a locus is a job whose performance was abnormally poor and \"bad\" is defined as being within the 25th worst percentile."
   ]
  },
  {
   "cell_type": "code",
   "execution_count": null,
   "metadata": {},
   "outputs": [],
   "source": [
    "ax = abcutils.plot.classified_extremes_summary(classified_extremes)\n",
    "ax.get_figure().set_size_inches(8, 5)\n",
    "ax.set_ylim(0, 65)\n",
    "ax.set_title(\"Candidate Contributors to Bad Performance (%d Jobs Total)\" % classified_extremes['totals']['total'])"
   ]
  },
  {
   "cell_type": "code",
   "execution_count": null,
   "metadata": {},
   "outputs": [],
   "source": [
    "ax = abcutils.plot.classified_extremes_summary_grouped(classified_extremes, group_metric='_benchmark_id')\n",
    "ax.get_figure().set_size_inches(8, 5)\n",
    "ax.set_ylim(0, 65)\n",
    "ax.set_title(\"Candidate Contributors to Bad Performance (%d Jobs Total)\" % classified_extremes['totals']['total'])"
   ]
  },
  {
   "cell_type": "code",
   "execution_count": null,
   "metadata": {},
   "outputs": [],
   "source": [
    "ax = abcutils.plot.classified_extremes_summary_grouped(classified_extremes, group_metric='_test_platform')\n",
    "ax.get_figure().set_size_inches(8, 5)\n",
    "ax.set_ylim(0, 65)\n",
    "ax.legend(bbox_to_anchor=(0.57, 1.0), fontsize=14)\n",
    "ax.set_title(\"Candidate Contributors to Bad Performance (%d Jobs Total)\" % classified_extremes['totals']['total'], fontsize=16)"
   ]
  },
  {
   "cell_type": "markdown",
   "metadata": {},
   "source": [
    "There are many caveats with the above plot; notably, the majority of jobs were run on Lustre since this data includes all Edison, Cori+KNL, and Cori+Haswell jobs.  In addition, the Mira data does not currently contain file system health data (although it is available), so the \"Number of Overloaded OSSes\" may be underreported.\n",
    "\n",
    "The most appropriate way to present this data is to produce one bar graph per test platform (compute system + file system combination) so that metrics that are only available on one test platform aren't being directly compared with others that are."
   ]
  },
  {
   "cell_type": "markdown",
   "metadata": {},
   "source": [
    "## Tabulate contributors to good performance over all tests\n",
    "\n",
    "We can also perform the above analysis and look for the metrics that coincided with good performance."
   ]
  },
  {
   "cell_type": "code",
   "execution_count": null,
   "metadata": {},
   "outputs": [],
   "source": [
    "loci = abcutils.features.generate_loci_sma(example_df, plot_metric, mins=False, maxes=True)\n",
    "ax = abcutils.plot.locus_summary(example_df, plot_metric, loci)\n",
    "ax.get_figure().suptitle(\"%s on %s\" % (abcutils.CONFIG['benchmark_labels'].get(BENCHMARK_ID, BENCHMARK_ID), TEST_PLATFORM))"
   ]
  },
  {
   "cell_type": "code",
   "execution_count": null,
   "metadata": {
    "scrolled": false
   },
   "outputs": [],
   "source": [
    "classified_extremes = abcutils.classify.classify_extreme_measurements(filtered_df, plot_metric, umami_rows, want_good=True)\n",
    "print_extreme_measurements(classified_extremes)"
   ]
  },
  {
   "cell_type": "code",
   "execution_count": null,
   "metadata": {
    "scrolled": false
   },
   "outputs": [],
   "source": [
    "ax = abcutils.plot.classified_extremes_summary(classified_extremes)\n",
    "ax.get_figure().set_size_inches(8, 5)\n",
    "ax.set_ylim(0, 65)\n",
    "ax.set_title(\"Candidate Contributors to Good Performance (%d Jobs Total)\" % classified_extremes['totals']['total'])"
   ]
  },
  {
   "cell_type": "code",
   "execution_count": null,
   "metadata": {},
   "outputs": [],
   "source": [
    "ax = abcutils.plot.classified_extremes_summary_grouped(classified_extremes, group_metric='_benchmark_id')\n",
    "ax.get_figure().set_size_inches(8, 5)\n",
    "ax.set_ylim(0, 65)\n",
    "ax.set_title(\"Candidate Contributors to Good Performance (%d Jobs Total)\" % classified_extremes['totals']['total'])"
   ]
  },
  {
   "cell_type": "code",
   "execution_count": null,
   "metadata": {},
   "outputs": [],
   "source": []
  }
 ],
 "metadata": {
  "kernelspec": {
   "display_name": "Python 2",
   "language": "python",
   "name": "python2"
  },
  "language_info": {
   "codemirror_mode": {
    "name": "ipython",
    "version": 2
   },
   "file_extension": ".py",
   "mimetype": "text/x-python",
   "name": "python",
   "nbconvert_exporter": "python",
   "pygments_lexer": "ipython2",
   "version": "2.7.14"
  }
 },
 "nbformat": 4,
 "nbformat_minor": 2
}
