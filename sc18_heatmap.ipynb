{
 "cells": [
  {
   "cell_type": "code",
   "execution_count": null,
   "metadata": {},
   "outputs": [],
   "source": [
    "%matplotlib inline\n",
    "%load_ext autoreload"
   ]
  },
  {
   "cell_type": "code",
   "execution_count": null,
   "metadata": {},
   "outputs": [],
   "source": [
    "%autoreload 2"
   ]
  },
  {
   "cell_type": "code",
   "execution_count": null,
   "metadata": {},
   "outputs": [],
   "source": [
    "import os\n",
    "import time\n",
    "import datetime\n",
    "import pandas\n",
    "import numpy\n",
    "import scipy.stats\n",
    "import tokio\n",
    "import abcutils\n",
    "import seaborn\n",
    "import matplotlib\n",
    "matplotlib.rcParams.update({'font.size': 16})"
   ]
  },
  {
   "cell_type": "markdown",
   "metadata": {},
   "source": [
    "## Load and Synthesize Data from CSV"
   ]
  },
  {
   "cell_type": "code",
   "execution_count": null,
   "metadata": {
    "scrolled": true
   },
   "outputs": [],
   "source": [
    "filtered_df = abcutils.sc18paper.load_dataset()"
   ]
  },
  {
   "cell_type": "code",
   "execution_count": null,
   "metadata": {
    "scrolled": true
   },
   "outputs": [],
   "source": [
    "TEST_PLATFORMS = [\n",
    "#   'scratch1@edison',\n",
    "    'cscratch@cori-knl',\n",
    "    'mira-fs1@mira'\n",
    "]\n",
    "BENCHMARK_IDS = [\n",
    "    'ior_shared_write',\n",
    "    'ior_fpp_write',\n",
    "    'hacc_io_write_fpp_write',\n",
    "    'vpicio_uni_shared_write',\n",
    "    'ior_shared_read',\n",
    "    'ior_fpp_read',\n",
    "    'hacc_io_read_fpp_read',\n",
    "    'dbscan_read_shared_read'\n",
    "]\n",
    "\n",
    "plot_metric = 'darshan_normalized_perf_by_max'\n",
    "\n",
    "group_by = ['_test_platform', '_benchmark_id']\n",
    "\n",
    "print \"plot_metric =\", abcutils.CONFIG['metric_labels'].get(plot_metric, plot_metric)\n",
    "print \"date_start =\", abcutils.sc18paper.DATE_START.isoformat()\n",
    "print \"date_end =\", abcutils.sc18paper.DATE_END.isoformat()"
   ]
  },
  {
   "cell_type": "markdown",
   "metadata": {},
   "source": [
    "## Seaborn Heatmap"
   ]
  },
  {
   "cell_type": "code",
   "execution_count": null,
   "metadata": {},
   "outputs": [],
   "source": [
    "job_times = {}\n",
    "heatmap_dat = {}\n",
    "platform_groups = filtered_df.groupby('_test_platform')\n",
    "for platform_id in TEST_PLATFORMS:\n",
    "    platform_df = platform_groups.get_group((platform_id))\n",
    "    job_ids = sorted(list(set(platform_df['_jobid'].values)))\n",
    "    job_times[platform_id] = [platform_df[(platform_df['_jobid'] == jobid)]['_datetime_start'].values[0] for jobid in job_ids]\n",
    "    heatmap_dat[platform_id] = pandas.DataFrame(0.0, index=job_ids, columns=BENCHMARK_IDS)\n",
    "    benchmark_groups = platform_df.groupby(by='_benchmark_id')\n",
    "    for benchmark_id in BENCHMARK_IDS:\n",
    "        benchmark_df = benchmark_groups.get_group((benchmark_id)).set_index('_jobid')\n",
    "        heatmap_dat[platform_id][benchmark_id] = benchmark_df[plot_metric]"
   ]
  },
  {
   "cell_type": "code",
   "execution_count": null,
   "metadata": {
    "scrolled": false
   },
   "outputs": [],
   "source": [
    "fig, axes = matplotlib.pyplot.subplots(nrows=len(heatmap_dat), ncols=1)\n",
    "fig.set_size_inches(20, 5*len(heatmap_dat))\n",
    "#matplotlib.pyplot.locator_params(nticks=4)\n",
    "\n",
    "i = 0\n",
    "for platform_id in heatmap_dat:\n",
    "    tmp_df = heatmap_dat[platform_id].transpose()\n",
    "    #tmp_df['_datetime_start'] = job_times[platform_id]\n",
    "    #tmp_df = tmp_df.set_index('_datetime_start')\n",
    "    #tmp_df = tmp_df.transpose()\n",
    "    \n",
    "    seaborn.heatmap(tmp_df, ax=axes[i])\n",
    "    axes[i].set_title(platform_id)\n",
    "    #axes[i].xaxis.set_major_locator(matplotlib.ticker.MaxNLocator(10))\n",
    "    axes[i].xaxis.label.set_visible(False)\n",
    "    axes[i].set_xticks([])\n",
    "    #axes[i].xaxis.set_major_locator(matplotlib.dates.DayLocator(interval=1))\n",
    "    #axes[i].xaxis.set_major_formatter(matplotlib.dates.DateFormatter('%Y-%m-%d'))\n",
    "    axes[i].get_figure().subplots_adjust(hspace=.2)\n",
    "    i += 1\n",
    "\n",
    "    #fig.autofmt_xdate()\n",
    "pass"
   ]
  },
  {
   "cell_type": "markdown",
   "metadata": {},
   "source": [
    "## Matplotlib Heatmap"
   ]
  },
  {
   "cell_type": "code",
   "execution_count": null,
   "metadata": {},
   "outputs": [],
   "source": [
    "def value2label(test_platform, benchmark_id):\n",
    "    return \"%s, %s\" % (test_platform, benchmark_id)"
   ]
  },
  {
   "cell_type": "code",
   "execution_count": null,
   "metadata": {},
   "outputs": [],
   "source": [
    "columns = []\n",
    "for benchmark_id in BENCHMARK_IDS:\n",
    "    for test_platform in TEST_PLATFORMS:\n",
    "        columns.append(value2label(test_platform, benchmark_id))\n",
    "\n",
    "ts = tokio.timeseries.TimeSeries(dataset_name='blah',\n",
    "                                 start=abcutils.sc18paper.DATE_START,\n",
    "                                 end=abcutils.sc18paper.DATE_END,\n",
    "                                 timestep=86400,\n",
    "                                 num_columns=len(columns),\n",
    "                                 column_names=sorted(columns),\n",
    "                                 sort_hex=False)"
   ]
  },
  {
   "cell_type": "code",
   "execution_count": null,
   "metadata": {},
   "outputs": [],
   "source": [
    "example_df = filtered_df.copy()\n",
    "\n",
    "test_filter = example_df['_benchmark_id'].isin(BENCHMARK_IDS)\n",
    "test_filter &= example_df['_test_platform'].isin(TEST_PLATFORMS)\n",
    "rename_filter = {\n",
    "    '_datetime_start': 'datetime_start',\n",
    "    '_benchmark_id': 'benchmark_id',\n",
    "    '_test_platform': 'test_platform',\n",
    "}\n",
    "for row in example_df[test_filter].rename(rename_filter, axis='columns', inplace=False).itertuples():\n",
    "    ts.insert_element(row.datetime_start.to_pydatetime(),\n",
    "                      value2label(row.test_platform, row.benchmark_id),\n",
    "                      row._asdict()[plot_metric])"
   ]
  },
  {
   "cell_type": "code",
   "execution_count": null,
   "metadata": {},
   "outputs": [],
   "source": [
    "fig = matplotlib.pyplot.figure()\n",
    "fig.set_size_inches(16, (2.5 * len(TEST_PLATFORMS)))\n",
    "fig.subplots_adjust(hspace=0.0, wspace=0.01)\n",
    "\n",
    "gridspec = matplotlib.gridspec.GridSpec(nrows=1, ncols=2, width_ratios=[16, 1])\n",
    "\n",
    "ax = fig.add_subplot(gridspec[0])\n",
    "\n",
    "cmap = matplotlib.cm.gist_heat\n",
    "cmap.set_bad(color='#666666', alpha=0.85)\n",
    "plotface = ax.pcolormesh(numpy.arange(ts.dataset.shape[0]),\n",
    "                         numpy.arange(ts.dataset.shape[1]+1),\n",
    "                         numpy.ma.masked_where(ts.dataset.T == 0.0, ts.dataset.T),\n",
    "                         cmap=cmap,\n",
    "                         linewidth=0,\n",
    "                         rasterized=True)\n",
    "\n",
    "# Set x ticks\n",
    "column_labels = []\n",
    "for label in ts.columns:\n",
    "    for key, val in abcutils.CONFIG['benchmark_labels_short'].iteritems():\n",
    "        label = label.replace(key, val)\n",
    "    label = label.replace('scratch1@edison', 'Edison')\n",
    "    label = label.replace('cscratch@cori-knl', 'Cori')\n",
    "    label = label.replace('mira-fs1@mira', 'Mira')\n",
    "    column_labels.append(label)\n",
    "ax.set_yticks(numpy.arange(len(column_labels)) + 0.5)\n",
    "ax.set_yticklabels(column_labels, ha='right')\n",
    "\n",
    "# Set x ticks\n",
    "xticks = []\n",
    "for index, timestamp in enumerate(ts.timestamps):\n",
    "    day = datetime.datetime.fromtimestamp(timestamp).day\n",
    "    if day == 1 and index > 0: # include first of each month\n",
    "        xticks.append(index)\n",
    "xticklabels = [datetime.datetime.fromtimestamp(ts.timestamps[index]).strftime(\"%b %d\\n%Y\").replace('01', '1', 1) for index in xticks]\n",
    "ax.set_xticks(xticks)\n",
    "ax.set_xticklabels(xticklabels)#, rotation=15, ha='right')\n",
    "ax.xaxis.grid(False)\n",
    "ax.yaxis.grid(False)\n",
    "\n",
    "# Set colorbar\n",
    "ax = fig.add_subplot(gridspec[1])\n",
    "cbar = matplotlib.pyplot.colorbar(plotface, cax=ax)\n",
    "ax.set_ylabel(abcutils.CONFIG['metric_labels'].get(plot_metric, plot_metric))\n",
    "\n",
    "fig.savefig('figs/summary_heatmap.pdf', bbox_inches='tight')"
   ]
  },
  {
   "cell_type": "code",
   "execution_count": null,
   "metadata": {},
   "outputs": [],
   "source": []
  }
 ],
 "metadata": {
  "kernelspec": {
   "display_name": "Python 2",
   "language": "python",
   "name": "python2"
  },
  "language_info": {
   "codemirror_mode": {
    "name": "ipython",
    "version": 2
   },
   "file_extension": ".py",
   "mimetype": "text/x-python",
   "name": "python",
   "nbconvert_exporter": "python",
   "pygments_lexer": "ipython2",
   "version": "2.7.14"
  }
 },
 "nbformat": 4,
 "nbformat_minor": 2
}
