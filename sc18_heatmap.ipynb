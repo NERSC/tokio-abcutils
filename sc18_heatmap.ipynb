{
 "cells": [
  {
   "cell_type": "code",
   "execution_count": 1,
   "metadata": {},
   "outputs": [],
   "source": [
    "%matplotlib inline\n",
    "%load_ext autoreload"
   ]
  },
  {
   "cell_type": "code",
   "execution_count": 2,
   "metadata": {},
   "outputs": [],
   "source": [
    "%autoreload 2"
   ]
  },
  {
   "cell_type": "code",
   "execution_count": 3,
   "metadata": {},
   "outputs": [],
   "source": [
    "import matplotlib\n",
    "import time\n",
    "import datetime\n",
    "import pandas\n",
    "import numpy\n",
    "import scipy.stats\n",
    "import abcutils\n",
    "import seaborn"
   ]
  },
  {
   "cell_type": "code",
   "execution_count": 4,
   "metadata": {},
   "outputs": [],
   "source": [
    "TEST_PLATFORMS = [\n",
    "    'scratch1@edison',\n",
    "    'scratch2@edison',\n",
    "    'scratch3@edison',\n",
    "    'cscratch@cori-knl',\n",
    "    'cscratch@cori-haswell',\n",
    "    'mira-fs1@mira'\n",
    "]"
   ]
  },
  {
   "cell_type": "markdown",
   "metadata": {},
   "source": [
    "## Load and Synthesize Data from CSV"
   ]
  },
  {
   "cell_type": "code",
   "execution_count": 5,
   "metadata": {
    "scrolled": true
   },
   "outputs": [],
   "source": [
    "df = pandas.concat([abcutils.load_and_synthesize_csv('summaries/edison-summaries_2017-02-14-2017-12-30.csv', system='edison'),\n",
    "                    abcutils.load_and_synthesize_csv('summaries/cori-summaries_2017-02-14-2017-12-31.csv', system='cori'),\n",
    "                    abcutils.load_and_synthesize_csv('summaries/alcf-tokio-results-2_14_17-2_15_18.csv', system='mira')],\n",
    "                   axis='rows')"
   ]
  },
  {
   "cell_type": "code",
   "execution_count": null,
   "metadata": {},
   "outputs": [],
   "source": [
    "platforms = [ 'scratch1@edison', 'cscratch@cori-knl', 'mira-fs1@mira' ]\n",
    "benchmarks = [ 'ior_shared_write', 'ior_fpp_write', 'hacc_io_write_fpp_write', 'vpicio_uni_shared_write',\n",
    "               'ior_shared_read', 'ior_fpp_read', 'hacc_io_read_fpp_read', 'dbscan_read_shared_read' ]\n",
    "plot_metric = 'darshan_normalized_perf_by_max'\n",
    "date_start = datetime.datetime(2017, 2, 14)\n",
    "date_end = date_start + datetime.timedelta(days=365)\n",
    "\n",
    "filtered_df = df[(df['_datetime_start'] < date_end) &\n",
    "                 (df['_datetime_start'] >= date_start)]\n",
    "\n",
    "job_times = {}\n",
    "heatmap_dat = {}\n",
    "platform_groups = filtered_df.groupby('_test_platform')\n",
    "for platform_id in platforms:\n",
    "    platform_df = platform_groups.get_group((platform_id))\n",
    "    job_ids = sorted(list(set(platform_df['_jobid'].values)))\n",
    "    job_times[platform_id] = [platform_df[(platform_df['_jobid'] == jobid)]['_datetime_start'].values[0] for jobid in job_ids]\n",
    "    heatmap_dat[platform_id] = pandas.DataFrame(0.0, index=job_ids, columns=benchmarks)\n",
    "    benchmark_groups = platform_df.groupby(by='_benchmark_id')\n",
    "    for benchmark_id in benchmarks:\n",
    "        benchmark_df = benchmark_groups.get_group((benchmark_id)).set_index('_jobid')\n",
    "        heatmap_dat[platform_id][benchmark_id] = benchmark_df[plot_metric]"
   ]
  },
  {
   "cell_type": "code",
   "execution_count": null,
   "metadata": {
    "scrolled": true
   },
   "outputs": [],
   "source": [
    "fig, axes = matplotlib.pyplot.subplots(nrows=len(heatmap_dat), ncols=1)\n",
    "fig.set_size_inches(20,5*len(heatmap_dat))\n",
    "#matplotlib.pyplot.locator_params(nticks=4)\n",
    "\n",
    "i = 0\n",
    "for platform_id in heatmap_dat:\n",
    "    tmp_df = heatmap_dat[platform_id].transpose()\n",
    "    #tmp_df['_datetime_start'] = job_times[platform_id]\n",
    "    #tmp_df = tmp_df.set_index('_datetime_start')\n",
    "    #tmp_df = tmp_df.transpose()\n",
    "\n",
    "    seaborn.heatmap(tmp_df, ax=axes[i])\n",
    "    axes[i].set_title(platform_id)\n",
    "    #axes[i].xaxis.set_major_locator(matplotlib.ticker.MaxNLocator(10))\n",
    "    axes[i].xaxis.label.set_visible(False)\n",
    "    axes[i].set_xticks([])\n",
    "    #axes[i].xaxis.set_major_locator(matplotlib.dates.DayLocator(interval=1))\n",
    "    #axes[i].xaxis.set_major_formatter(matplotlib.dates.DateFormatter('%Y-%m-%d'))\n",
    "    axes[i].get_figure().subplots_adjust(hspace=.2)\n",
    "    i += 1\n",
    "\n",
    "#fig.autofmt_xdate()\n",
    "\n",
    "pass"
   ]
  },
  {
   "cell_type": "code",
   "execution_count": null,
   "metadata": {},
   "outputs": [],
   "source": []
  }
 ],
 "metadata": {
  "kernelspec": {
   "display_name": "Python 2",
   "language": "python",
   "name": "python2"
  },
  "language_info": {
   "codemirror_mode": {
    "name": "ipython",
    "version": 2
   },
   "file_extension": ".py",
   "mimetype": "text/x-python",
   "name": "python",
   "nbconvert_exporter": "python",
   "pygments_lexer": "ipython2",
   "version": "2.7.13"
  }
 },
 "nbformat": 4,
 "nbformat_minor": 2
}
