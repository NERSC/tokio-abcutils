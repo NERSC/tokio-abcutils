{
 "cells": [
  {
   "cell_type": "code",
   "execution_count": null,
   "metadata": {},
   "outputs": [],
   "source": [
    "%matplotlib inline\n",
    "%load_ext autoreload"
   ]
  },
  {
   "cell_type": "code",
   "execution_count": null,
   "metadata": {},
   "outputs": [],
   "source": [
    "import os\n",
    "import time\n",
    "import datetime\n",
    "import warnings\n",
    "import matplotlib\n",
    "matplotlib.rcParams.update({'font.size': 16})\n",
    "import pandas\n",
    "import numpy\n",
    "import scipy.stats\n",
    "import abcutils"
   ]
  },
  {
   "cell_type": "markdown",
   "metadata": {},
   "source": [
    "## Load and Synthesize Data from CSV\n",
    "\n",
    "This process loads each summary CSV file, creates a few derived metrics, and then merges each system's CSV into a single global dataset that can be sliced and diced by system, benchmark, or any other way.  We are now caching the processed CSV in HDF5 format to speed up initial data ingest at the beginning of each analysis.  Delete the `CACHE_FILE` to re-generate this cache (e.g., when the contents of the CSV are updated)."
   ]
  },
  {
   "cell_type": "code",
   "execution_count": null,
   "metadata": {
    "scrolled": true
   },
   "outputs": [],
   "source": [
    "filtered_df = abcutils.sc18paper.load_dataset()"
   ]
  },
  {
   "cell_type": "markdown",
   "metadata": {},
   "source": [
    "## Demonstrate a Single Test Platform\n",
    "\n",
    "Look at one combination of (compute system, file system, benchmark) to show what this UMAMI analysis can do.\n",
    "\n",
    "### Define Input Parameters"
   ]
  },
  {
   "cell_type": "code",
   "execution_count": null,
   "metadata": {
    "scrolled": true
   },
   "outputs": [],
   "source": [
    "TEST_PLATFORM = 'mira-fs1@mira'\n",
    "\n",
    "BENCHMARK_ID = 'hacc_io_write_fpp_write'\n",
    "\n",
    "plot_metric = 'darshan_normalized_perf_by_max'\n",
    "delta = datetime.timedelta(days=1).total_seconds()\n",
    "\n",
    "DRAW_REGION_ILOC = -4 # just for highlighting a specific region in the paper\n",
    "\n",
    "example_df = filtered_df.groupby(by=['_test_platform', '_benchmark_id']).get_group((TEST_PLATFORM, BENCHMARK_ID)).copy()\n",
    "example_df = filtered_df.groupby(by=['_test_platform']).get_group((TEST_PLATFORM)).copy()\n",
    "\n",
    "print \"test_platform =\", TEST_PLATFORM\n",
    "print \"benchmark_id =\", abcutils.CONFIG['benchmark_labels'].get(BENCHMARK_ID, BENCHMARK_ID)\n",
    "print \"plot_metric =\", abcutils.CONFIG['metric_labels'].get(plot_metric, plot_metric)\n",
    "print \"date_start =\", abcutils.sc18paper.DATE_START.isoformat()\n",
    "print \"date_end =\", abcutils.sc18paper.DATE_END.isoformat()\n",
    "print \"observations =\", len(example_df)"
   ]
  },
  {
   "cell_type": "code",
   "execution_count": null,
   "metadata": {},
   "outputs": [],
   "source": [
    "# Metrics to include in UMAMI renderings and analysis.  Anything that\n",
    "# _might_ affect performance should be included here.\n",
    "umami_rows = [\n",
    "    'darshan_normalized_perf_by_max',\n",
    "    'coverage_factor_bw',\n",
    "#   'coverage_factor_nodehrs',\n",
    "    'coverage_factor_opens',\n",
    "    'coverage_factor_stats',\n",
    "    'coverage_factor_ops',\n",
    "    'fs_ave_mds_cpu',\n",
    "#   'fs_tot_metadata_ops',\n",
    "    'fs_ave_oss_cpu',\n",
    "#   'fs_tot_open_ops',\n",
    "    'fshealth_ost_most_full_pct',\n",
    "    'fshealth_ost_overloaded_oss_count',\n",
    "#   'jobsdb_concurrent_nodes',\n",
    "    'topology_job_max_radius',\n",
    "]"
   ]
  },
  {
   "cell_type": "markdown",
   "metadata": {},
   "source": [
    "## Region-defined Correlation"
   ]
  },
  {
   "cell_type": "code",
   "execution_count": null,
   "metadata": {},
   "outputs": [],
   "source": [
    "# Width of simple moving average (SMA) short/long windows\n",
    "SHORT_WINDOW = pandas.Timedelta(days=14)\n",
    "LONG_WINDOW = pandas.Timedelta(days=49)\n",
    "\n",
    "print \"Short window will average over %s at a time\" % SHORT_WINDOW\n",
    "print \"Long window will average over %s at a time\" % LONG_WINDOW"
   ]
  },
  {
   "cell_type": "markdown",
   "metadata": {},
   "source": [
    "## Calculate intercepts from SMAs"
   ]
  },
  {
   "cell_type": "code",
   "execution_count": null,
   "metadata": {},
   "outputs": [],
   "source": [
    "sma_short = abcutils.features.calculate_sma(example_df,\n",
    "                                            '_datetime_start',\n",
    "                                            plot_metric,\n",
    "                                            window=SHORT_WINDOW)\n",
    "sma_long = pandas.Series([example_df[plot_metric].mean()] * len(sma_short),\n",
    "                         index=sma_short.index,\n",
    "                         name=sma_short.name)"
   ]
  },
  {
   "cell_type": "code",
   "execution_count": null,
   "metadata": {
    "scrolled": false
   },
   "outputs": [],
   "source": [
    "sma_intercepts = abcutils.features.sma_intercepts(example_df,\n",
    "                                                  plot_metric,\n",
    "                                                  short_window=SHORT_WINDOW,\n",
    "                                                  long_window=LONG_WINDOW)\n",
    "sma_intercepts"
   ]
  },
  {
   "cell_type": "markdown",
   "metadata": {},
   "source": [
    "### Filter intercepts\n",
    "\n",
    "Note that we ultimately abandoned the delta-based filtering above.  It also doesn't make as much sense in the context of divergence regions, so just pass the regions though."
   ]
  },
  {
   "cell_type": "code",
   "execution_count": null,
   "metadata": {},
   "outputs": [],
   "source": [
    "intercept_regions = list(abcutils.features.intercepts_to_region(example_df, sma_intercepts))\n",
    "print \"Using %d divergence regions\"  % len(intercept_regions)"
   ]
  },
  {
   "cell_type": "markdown",
   "metadata": {},
   "source": [
    "## Filter regions based on p-value\n",
    "\n",
    "Regions that contain too few data points have very large p-values.  We discard those regions."
   ]
  },
  {
   "cell_type": "code",
   "execution_count": null,
   "metadata": {
    "scrolled": false
   },
   "outputs": [],
   "source": [
    "pcutoff = 1.0e-5\n",
    "results = {\n",
    "    'region_start': [],\n",
    "    'region_end': [],\n",
    "    'region_start_index': [],\n",
    "    'region_end_index': [],\n",
    "    'metric': [],\n",
    "    'coeff': [],\n",
    "    'pvalue': [],\n",
    "    'region_points': []\n",
    "}\n",
    "identified_regions = []\n",
    "not_pass_filter = 0\n",
    "\n",
    "for region in intercept_regions: # centroid_regions:\n",
    "    x = region[plot_metric].values\n",
    "    base_nan_filter = numpy.isnan(x)\n",
    "    title = \"%s - %s (%d points)\" % (\n",
    "        region.iloc[0]['_datetime_start'],\n",
    "        region.iloc[-1]['_datetime_start'],\n",
    "        len(x[~base_nan_filter])\n",
    "    )\n",
    "    if len(x[~base_nan_filter]) < 3:\n",
    "        # two points will create a correlation with p-value = 0\n",
    "        print \"skipping region:\", title\n",
    "        not_pass_filter += 1\n",
    "        continue\n",
    "\n",
    "    print \"new region:\", title\n",
    "    identified = False\n",
    "    for y_label in umami_rows: #example_df.columns: #umami_rows:\n",
    "        if y_label == plot_metric:\n",
    "            continue\n",
    "        y = example_df.loc[region.index][y_label].values\n",
    "        try:\n",
    "            nan_filter = base_nan_filter | numpy.isnan(y)\n",
    "        except TypeError:\n",
    "            # non-numeric; pass\n",
    "            continue\n",
    "        this_x = x[~nan_filter]\n",
    "        this_y = y[~nan_filter]\n",
    "        if len(this_y) > 0:\n",
    "            coeff, pval = scipy.stats.pearsonr(this_x, this_y)\n",
    "            if pval < pcutoff and coeff < 0.9999:\n",
    "                results['region_start'].append(region.iloc[0]['_datetime_start'])\n",
    "                results['region_end'].append(region.iloc[-1]['_datetime_start'])\n",
    "                results['region_start_index'].append(region.index[0])\n",
    "                results['region_end_index'].append(region.index[-1])\n",
    "                results['metric'].append(y_label)\n",
    "                results['coeff'].append(coeff)\n",
    "                results['pvalue'].append(pval)\n",
    "                results['region_points'].append(len(x[~base_nan_filter]))\n",
    "#               fig, ax = matplotlib.pyplot.subplots()\n",
    "#               ax.scatter(this_x, this_y)\n",
    "#               ax.set_xlabel(abcutils.CONFIG['metric_labels'].get(plot_metric, plot_metric))\n",
    "#               ax.set_ylabel(abcutils.CONFIG['metric_labels'].get(y_label, y_label).replace(' (', '\\n('))\n",
    "#               ax.grid()\n",
    "#               fit = scipy.stats.linregress(this_x, this_y)\n",
    "#               ax.set_xlim(ax.get_xlim())\n",
    "#               ax.plot(ax.get_xticks(),\n",
    "#                       [fit.slope * xi + fit.intercept for xi in ax.get_xticks()],\n",
    "#                       color='C2',\n",
    "#                      linewidth=3)\n",
    "                print \"    Fit for\", y_label, title\n",
    "                print \"    Coefficient: %12.4f\" % coeff\n",
    "                print \"    p-value:     %12.4e\" % pval\n",
    "#               print \"    Slope:       %12.4f\" % fit.slope\n",
    "#               print \"    Rval:        %12.4e\" % fit.rvalue\n",
    "                print\n",
    "                identified = True\n",
    "\n",
    "    # Keep track of regions that have known root causes\n",
    "    if identified:\n",
    "        identified_regions.append(region)\n",
    "    print\n",
    "\n",
    "print \"Kept %d regions\" % (len(intercept_regions) - not_pass_filter)\n",
    "print \"Classified %d regions\" % len(identified_regions)\n",
    "print \"Discarded %d regions\" % not_pass_filter\n",
    "    \n",
    "results_df = pandas.DataFrame.from_dict(results)"
   ]
  },
  {
   "cell_type": "code",
   "execution_count": null,
   "metadata": {},
   "outputs": [],
   "source": [
    "results_df.sort_values('coeff')"
   ]
  },
  {
   "cell_type": "markdown",
   "metadata": {},
   "source": [
    "## Plot identified region(s)"
   ]
  },
  {
   "cell_type": "code",
   "execution_count": null,
   "metadata": {},
   "outputs": [],
   "source": [
    "ax = abcutils.plot.sma_overlaps(dataframe=example_df,\n",
    "                                plot_metric=plot_metric,\n",
    "                                short_window=SHORT_WINDOW,\n",
    "                                long_window=LONG_WINDOW,\n",
    "                                sma_intercepts=sma_intercepts[0:1],\n",
    "                                plotraw=False,\n",
    "                                method='value')\n",
    "ax.get_figure().set_size_inches((8, 3))\n",
    "\n",
    "# Shade in the regions identified and highlight the region of interest in red\n",
    "ymin, ymax = ax.set_ylim(0, 1)\n",
    "for region in identified_regions:\n",
    "    if region.index[0] == identified_regions[DRAW_REGION_ILOC].index[0]:\n",
    "        abcutils.plot.draw_region(ax, region, facecolor='red', alpha=0.20)\n",
    "    else:\n",
    "        abcutils.plot.draw_region(ax, region)\n",
    "\n",
    "# Draw dotted lines denoting the boundaries between regions for clarity\n",
    "for row in results_df.itertuples():\n",
    "    xmin = abcutils.core.pd2epoch(row.region_start)\n",
    "    xmax = abcutils.core.pd2epoch(row.region_end)\n",
    "    if row.Index == results_df.index[DRAW_REGION_ILOC]:\n",
    "        color='red'\n",
    "    else:\n",
    "        color='black'\n",
    "    ax.plot([xmin, xmin],\n",
    "            [ymin, ymax],\n",
    "            linestyle='--',\n",
    "            linewidth=1,\n",
    "            color=color)\n",
    "    ax.plot([xmax, xmax],\n",
    "            [ymin, ymax],\n",
    "            linestyle='--',\n",
    "            linewidth=1,\n",
    "            color=color)\n",
    "    \n",
    "ax.set_axisbelow(True)\n",
    "\n",
    "# Draw the legend\n",
    "legend_handlers = [\n",
    "    matplotlib.lines.Line2D([0], [0], color='C1', lw=2),\n",
    "    matplotlib.lines.Line2D([0], [0], color='C2', lw=2),\n",
    "    matplotlib.lines.Line2D([0], [0], color='black', linestyle='--', lw=1),\n",
    "    (matplotlib.patches.Patch(facecolor='#00000033', lw=1, linestyle='--', edgecolor='black'),\n",
    "    matplotlib.patches.Patch(facecolor='#FFFFFF00', lw=1, linestyle='--', edgecolor='black')),\n",
    "]\n",
    "legend_labels = [\n",
    "    \"${SMA}_{short}$\",\n",
    "    \"${SMA}_{long}$\",\n",
    "    \"Crossover point\",\n",
    "    \"Divergence region\"\n",
    "]\n",
    "ax.legend(legend_handlers, legend_labels, labelspacing=0)\n",
    "ax.get_figure().set_size_inches(8, 3)\n",
    "ax.set_yticks(numpy.arange(0, 1.2, 0.25))\n",
    "\n",
    "ax.set_xlim(\n",
    "    time.mktime(datetime.datetime(2017, 6, 1).timetuple()),\n",
    "    time.mktime(datetime.datetime(2018, 2, 1).timetuple()))\n",
    "abcutils.plot.fix_xticks_timeseries(ax)\n",
    "\n",
    "ax.set_ylabel(ax.get_ylabel().replace(\"\\n\", \" \"))\n",
    "\n",
    "ax.get_figure().savefig(\"figs/mira-regions-overview.pdf\", bbox_inches='tight')"
   ]
  },
  {
   "cell_type": "markdown",
   "metadata": {},
   "source": [
    "## Plot for paper"
   ]
  },
  {
   "cell_type": "code",
   "execution_count": null,
   "metadata": {},
   "outputs": [],
   "source": [
    "def plot_region_correlation(dataframe, region, plot_metric):\n",
    "    fig, axes = matplotlib.pyplot.subplots(nrows=2, ncols=1, figsize=(8, 6))\n",
    "\n",
    "    #region = results_df.iloc[0]\n",
    "    region_df = dataframe.loc[region['region_start_index']:region['region_end_index']]\n",
    "\n",
    "    # Plot #1\n",
    "    ax = axes[0]\n",
    "    ax.set_title(\"(a)\", x=0.07, y=0.05)\n",
    "\n",
    "    abcutils.plot.sma_overlaps(dataframe=dataframe,\n",
    "                               plot_metric=plot_metric,\n",
    "                               short_window=SHORT_WINDOW,\n",
    "                               long_window=LONG_WINDOW,\n",
    "                               sma_intercepts=sma_intercepts[0:1],\n",
    "                               method='value',\n",
    "                               ax=ax)\n",
    "    # Turn off raw data\n",
    "    for patch in ax.patches:\n",
    "        if patch.get_alpha() == 0.5:\n",
    "            patch.set_visible(False)\n",
    "\n",
    "    # Draw the region of interest\n",
    "    min_y, max_y = ax.set_ylim(0, 1)\n",
    "    min_x = abcutils.core.pd2epoch(region['region_start'])\n",
    "    max_x = abcutils.core.pd2epoch(region['region_end'])\n",
    "    ax.add_patch(matplotlib.patches.Rectangle(xy=(min_x, min_y),\n",
    "                 width=(max_x - min_x),\n",
    "                 height=(max_y - min_y),\n",
    "                 facecolor='red',\n",
    "                 linewidth=0,\n",
    "                 alpha=0.20,\n",
    "                 zorder=0))\n",
    "    ax.plot([min_x, min_x], [min_y, max_y], linestyle='--', color='red')\n",
    "    ax.plot([max_x, max_x], [min_y, max_y], linestyle='--', color='red')\n",
    "\n",
    "    ax.set_xlim(min_x - 86400 * 30, #(max_x - min_x)*2,\n",
    "                max_x + 86400 * 30) #(max_x - min_x)*1)\n",
    "    ax.set_ylabel(ax.get_ylabel().replace(\"\\n\", \" \"))\n",
    "\n",
    "    # Draw the legend\n",
    "#   ax.get_lines()[0].set_label(\"$SMA_{%d}$\" % SHORT_WINDOW.days)\n",
    "#   ax.get_lines()[1].set_label(\"$SMA_{%d}$\" % LONG_WINDOW.days)\n",
    "    ax.get_lines()[0].set_label(\"$SMA_{short}$\")\n",
    "    ax.get_lines()[1].set_label(\"$SMA_{long}$\")\n",
    "\n",
    "    ax.legend(loc='lower right', bbox_to_anchor=(1.01, -0.04))\n",
    "\n",
    "    # Clean up the x tick labeling\n",
    "    abcutils.plot.fix_xticks_timeseries(ax, format=\"%b %d\", rotation=0, ha='center')\n",
    "\n",
    "    # Plot #2\n",
    "    ax = axes[1]\n",
    "    ax.set_title(\"(b)\", x=0.07, y=0.8)\n",
    "\n",
    "    # Drop NaNs--they break scipy's Pearson correlation\n",
    "    xval = region_df[plot_metric]\n",
    "    yval = region_df[region['metric']]\n",
    "    nan_filter = numpy.isnan(xval) | numpy.isnan(yval)\n",
    "    xval = xval[~nan_filter]\n",
    "    yval = yval[~nan_filter]\n",
    "    fit = scipy.stats.linregress(xval, yval)\n",
    "    \n",
    "    colorvals = numpy.log(xval.div(yval))\n",
    "\n",
    "#   ax.scatter(xval, yval, c=colorvals, cmap='magma_R', alpha=0.75, edgecolor='#000000FF')\n",
    "    ax.scatter(xval, yval, c='C0')\n",
    "    ax.set_xlabel(abcutils.CONFIG['metric_labels'].get(plot_metric, plot_metric))\n",
    "    ax.set_ylabel(abcutils.CONFIG['metric_labels'].get(region['metric'], region['metric']).replace(' (', '\\n('))\n",
    "    ax.grid()\n",
    "    ax.set_ylim(0, 1)\n",
    "    ax.set_xlim(0, 1)\n",
    "    ax.set_yticks([0, .25, .5, .75, 1.])\n",
    "    ax.set_xlim(ax.get_xlim())\n",
    "    ax.plot(ax.get_xticks(),\n",
    "            [fit.slope * xi + fit.intercept for xi in ax.get_xticks()],\n",
    "            color='black',\n",
    "            linestyle='--',\n",
    "            linewidth=2)\n",
    "    return axes"
   ]
  },
  {
   "cell_type": "code",
   "execution_count": null,
   "metadata": {
    "scrolled": false
   },
   "outputs": [],
   "source": [
    "axes = plot_region_correlation(example_df, results_df.iloc[-4], plot_metric)\n",
    "axes[0].get_figure().savefig(\"figs/mira-correlation-region.pdf\", bbox_inches='tight')"
   ]
  },
  {
   "cell_type": "code",
   "execution_count": null,
   "metadata": {},
   "outputs": [],
   "source": []
  }
 ],
 "metadata": {
  "kernelspec": {
   "display_name": "Python 2",
   "language": "python",
   "name": "python2"
  },
  "language_info": {
   "codemirror_mode": {
    "name": "ipython",
    "version": 2
   },
   "file_extension": ".py",
   "mimetype": "text/x-python",
   "name": "python",
   "nbconvert_exporter": "python",
   "pygments_lexer": "ipython2",
   "version": "2.7.14"
  }
 },
 "nbformat": 4,
 "nbformat_minor": 2
}
