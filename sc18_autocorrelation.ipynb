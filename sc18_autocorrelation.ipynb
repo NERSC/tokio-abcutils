{
 "cells": [
  {
   "cell_type": "code",
   "execution_count": null,
   "metadata": {},
   "outputs": [],
   "source": [
    "%matplotlib inline\n",
    "%load_ext autoreload"
   ]
  },
  {
   "cell_type": "code",
   "execution_count": null,
   "metadata": {},
   "outputs": [],
   "source": [
    "%autoreload 2"
   ]
  },
  {
   "cell_type": "code",
   "execution_count": null,
   "metadata": {},
   "outputs": [],
   "source": [
    "import os\n",
    "import matplotlib\n",
    "matplotlib.rcParams.update({'font.size': 16})\n",
    "import time\n",
    "import datetime\n",
    "import warnings\n",
    "import pandas\n",
    "import numpy\n",
    "import scipy.stats\n",
    "import abcutils"
   ]
  },
  {
   "cell_type": "code",
   "execution_count": null,
   "metadata": {},
   "outputs": [],
   "source": [
    "TEST_PLATFORMS = [\n",
    "    'scratch1@edison',\n",
    "    'scratch2@edison',\n",
    "    'scratch3@edison',\n",
    "    'cscratch@cori-knl',\n",
    "#   'cscratch@cori-haswell',\n",
    "    'mira-fs1@mira'\n",
    "]"
   ]
  },
  {
   "cell_type": "markdown",
   "metadata": {},
   "source": [
    "## Load and Synthesize Data from CSV\n",
    "\n",
    "This process loads each summary CSV file, creates a few derived metrics, and then merges each system's CSV into a single global dataset that can be sliced and diced by system, benchmark, or any other way."
   ]
  },
  {
   "cell_type": "code",
   "execution_count": null,
   "metadata": {
    "scrolled": true
   },
   "outputs": [],
   "source": [
    "filtered_df = abcutils.sc18paper.load_dataset()"
   ]
  },
  {
   "cell_type": "markdown",
   "metadata": {},
   "source": [
    "## Calculate the signed pair correlation function"
   ]
  },
  {
   "cell_type": "markdown",
   "metadata": {},
   "source": [
    "Configure basic input parameters"
   ]
  },
  {
   "cell_type": "code",
   "execution_count": null,
   "metadata": {},
   "outputs": [],
   "source": [
    "group_by = ['_test_platform', '_benchmark_id']"
   ]
  },
  {
   "cell_type": "code",
   "execution_count": null,
   "metadata": {
    "scrolled": true
   },
   "outputs": [],
   "source": [
    "#test_platform = 'scratch2@edison'\n",
    "test_platform = 'cscratch@cori-knl'\n",
    "#test_platform = 'mira-fs1@mira'\n",
    "\n",
    "benchmark_id = 'ior_fpp_write'\n",
    "# benchmark_id = 'dbscan_read_shared_read'\n",
    "# benchmark_id = 'ior_shared_write'\n",
    "\n",
    "plot_metric = 'darshan_agg_perf_by_slowest_posix_gibs'\n",
    "group_by = ['_test_platform', '_benchmark_id']\n",
    "delta = datetime.timedelta(days=1).total_seconds()\n",
    "\n",
    "example_df = filtered_df.groupby(by=group_by).get_group((test_platform, benchmark_id))\n",
    "\n",
    "print \"test_platform =\", test_platform\n",
    "print \"benchmark_id =\", abcutils.CONFIG['benchmark_labels'].get(benchmark_id, benchmark_id)\n",
    "print \"plot_metric =\", abcutils.CONFIG['metric_labels'].get(plot_metric, plot_metric)\n",
    "print \"date_start =\", abcutils.sc18paper.DATE_START.isoformat()\n",
    "print \"date_end =\", abcutils.sc18paper.DATE_END.isoformat()"
   ]
  },
  {
   "cell_type": "code",
   "execution_count": null,
   "metadata": {},
   "outputs": [],
   "source": [
    "sma_short = abcutils.features.calculate_sma(example_df, '_datetime_start', plot_metric, abcutils.features.SHORT_WINDOW)\n",
    "sma_long = abcutils.features.calculate_sma(example_df, '_datetime_start', plot_metric, abcutils.features.LONG_WINDOW)\n",
    "\n",
    "x_sma_short = [abcutils.core.pd2epoch(x) for x in sma_short.index]\n",
    "y_sma_short = sma_short.values\n",
    "\n",
    "x_sma_long = [abcutils.core.pd2epoch(x) for x in sma_long.index]\n",
    "y_sma_long = sma_long.values"
   ]
  },
  {
   "cell_type": "markdown",
   "metadata": {},
   "source": [
    "### Calculate the Autocorrelation Function\n",
    "\n",
    "Using whatever definition of loci we chose above, calculate the autocorrelation function for the test conditions of interest and generate the ACF plot."
   ]
  },
  {
   "cell_type": "code",
   "execution_count": null,
   "metadata": {
    "scrolled": true
   },
   "outputs": [],
   "source": [
    "dataset = pandas.Series(data=example_df[plot_metric].values,\n",
    "                        name=plot_metric,\n",
    "                        index=[abcutils.core.pd2epoch(x) for x in example_df['_datetime_start']])\n",
    "\n",
    "loci = [abcutils.core.pd2epoch(x) for x in abcutils.features.generate_loci_sma(example_df, plot_metric, mins=True, maxes=False)['_datetime_start']]\n",
    "\n",
    "xv, yv, ct, std = abcutils.correlation.autocorrelation(dataset=dataset,\n",
    "                                                       loci=loci,\n",
    "                                                       xmin=0,\n",
    "                                                       xmax=+28*delta,\n",
    "                                                       delta=delta,\n",
    "                                                       norm=True,\n",
    "                                                       norm_by_locus=False,\n",
    "                                                       agg_func=numpy.median,\n",
    "                                                       stdev_func=lambda x: numpy.std(x, ddof=1))"
   ]
  },
  {
   "cell_type": "code",
   "execution_count": null,
   "metadata": {},
   "outputs": [],
   "source": [
    "fig, axes = matplotlib.pyplot.subplots(nrows=3, ncols=1)\n",
    "fig.set_size_inches(16,8)\n",
    "\n",
    "x_raw = example_df['_datetime_start'].apply(lambda x: time.mktime(x.timetuple()))\n",
    "y_raw = example_df[plot_metric]\n",
    "\n",
    "x_low = loci\n",
    "y_low = dataset.loc[loci].values\n",
    "\n",
    "### plot the raw data\n",
    "ax = axes[0]\n",
    "ax.grid()\n",
    "ax.bar(x_raw, y_raw, width=delta, alpha=0.5)\n",
    "ax.bar(x_low, y_low, width=delta, color='red')\n",
    "# ax.scatter(x_low, y_low, marker='.', color='red')\n",
    "# ax.plot(x_raw, y_raw, linestyle='-')\n",
    "ax.set_ylabel(abcutils.CONFIG['metric_labels'].get(plot_metric, plot_metric).replace(\" \", \"\\n\"))\n",
    "ax.set_xticklabels([datetime.datetime.fromtimestamp(x).strftime(\"%b %d\") for x in ax.get_xticks()])\n",
    "fig.suptitle(\"%s on %s\" % (abcutils.CONFIG['benchmark_labels'].get(benchmark_id, benchmark_id),\n",
    "                           test_platform))\n",
    "\n",
    "### plot the simple moving averages\n",
    "ax.plot(x_sma_short, y_sma_short, color='C1', linewidth=2)\n",
    "ax.plot(x_sma_long, y_sma_long, color='C2', linewidth=2)\n",
    "\n",
    "### plot the autocorrelation function\n",
    "ax = axes[1]\n",
    "ax.plot(xv / delta, yv, linestyle='-', marker='o')\n",
    "#ax.errorbar(xv / 86400, yv, xerr=None, yerr=std, color='grey', capsize=4)\n",
    "ax.grid()\n",
    "ax.set_ylabel(\"Performance\\nACF\")\n",
    "# ax.set_ylim(0.5, 1.0)\n",
    "\n",
    "### plot the number of samples in each bin\n",
    "#ax = axes[2]\n",
    "#ax.plot(xv / delta, ct, linestyle='-', marker='o')\n",
    "#ax.set_ylabel(\"# Samples\")\n",
    "#ax.grid()\n",
    "ax = axes[2]\n",
    "ax.plot(xv / delta, yv, linestyle='-', marker='o')\n",
    "ax.errorbar(xv / delta, yv, xerr=None, yerr=std, color='grey', capsize=4)\n",
    "ax.grid()\n",
    "ax.set_ylabel(\"ACF w/ stdev\")\n",
    "ax.set_xlabel(\"Days\")\n",
    "pass"
   ]
  },
  {
   "cell_type": "markdown",
   "metadata": {},
   "source": [
    "## Generate and plot ACFs for ALL benchmark data\n",
    "\n",
    "This takes a _very_ long time to compute."
   ]
  },
  {
   "cell_type": "code",
   "execution_count": null,
   "metadata": {
    "scrolled": false
   },
   "outputs": [],
   "source": [
    "# Global plot parameters\n",
    "plot_metric = 'darshan_agg_perf_by_slowest_posix_gibs'\n",
    "date_start = datetime.datetime(2017, 2, 14)\n",
    "date_end = datetime.datetime(2018, 3, 1)\n",
    "group_by = ['_test_platform', '_benchmark_id']\n",
    "\n",
    "# Determine which plots to generate\n",
    "test_platforms = sorted(filtered_df['_test_platform'].unique())\n",
    "benchmark_ids = sorted(filtered_df['_benchmark_id'].unique())\n",
    "\n",
    "#test_platforms = ['cscratch@cori-knl']\n",
    "#benchmark_ids = ['dbscan_read_shared_read', 'vpicio_uni_shared_write']\n",
    "\n",
    "num_days = 14\n",
    "delta = datetime.timedelta(days=1).total_seconds()\n",
    "grouped_df = filtered_df.groupby(by=group_by)\n",
    "\n",
    "# Generate plots\n",
    "for test_platform in test_platforms:\n",
    "    fig, axes = matplotlib.pyplot.subplots(nrows=len(benchmark_ids),\n",
    "                                           ncols=1,\n",
    "                                           sharex=True)\n",
    "    fig.set_size_inches(20, 4 * len(benchmark_ids))\n",
    "    axes[-1].set_xlabel(\"Days\")\n",
    "\n",
    "    for index, benchmark_id in enumerate(benchmark_ids):\n",
    "        ax = axes[index]\n",
    "        ax.set_xlim(0, num_days - 1)\n",
    "        ax.set_ylim(0.4, 1.2)\n",
    "        ax.set_xticks(range(num_days))\n",
    "        ax.grid()\n",
    "        ax.set_ylabel(\"Relative Performance\")\n",
    "        ax.set_title(\"%s %s\" % (test_platform, benchmark_id),\n",
    "                    **{'x': 0.01, 'y': 0.02, 'horizontalalignment': 'left'})\n",
    "        \n",
    "        try:\n",
    "            example_df = grouped_df.get_group((test_platform, benchmark_id))\n",
    "            metric_distributions = filtered_df.groupby(by=group_by).describe()\n",
    "        except KeyError:\n",
    "            continue\n",
    "\n",
    "        dataset = pandas.Series(data=example_df[plot_metric].values,\n",
    "                                name=plot_metric,\n",
    "                                index=[abcutils.core.pd2epoch(x) for x in example_df['_datetime_start']])\n",
    "        loci = [abcutils.core.pd2epoch(x) for x in abcutils.features.generate_loci_sma(example_df,\n",
    "                                                                                       plot_metric,\n",
    "                                                                                       mins=True,\n",
    "                                                                                       maxes=False)['_datetime_start']]\n",
    "        \n",
    "        if not loci:\n",
    "            continue\n",
    "\n",
    "        xv, yv, ct, std = abcutils.correlation.autocorrelation(dataset=dataset,\n",
    "                                                               loci=loci,\n",
    "                                                               xmin=0*delta,\n",
    "                                                               xmax=num_days*delta,\n",
    "                                                               delta=delta,\n",
    "                                                               norm=True)\n",
    "\n",
    "        ax.plot(xv / delta, yv, linestyle='-', marker='o')"
   ]
  },
  {
   "cell_type": "code",
   "execution_count": null,
   "metadata": {},
   "outputs": [],
   "source": []
  }
 ],
 "metadata": {
  "kernelspec": {
   "display_name": "Python 2",
   "language": "python",
   "name": "python2"
  },
  "language_info": {
   "codemirror_mode": {
    "name": "ipython",
    "version": 2
   },
   "file_extension": ".py",
   "mimetype": "text/x-python",
   "name": "python",
   "nbconvert_exporter": "python",
   "pygments_lexer": "ipython2",
   "version": "2.7.14"
  }
 },
 "nbformat": 4,
 "nbformat_minor": 2
}
