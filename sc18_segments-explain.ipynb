{
 "cells": [
  {
   "cell_type": "markdown",
   "metadata": {},
   "source": [
    "# Segments and Centroids\n",
    "\n",
    "This notebook creates a graphic to explain how _divergence regions_ and _trend regions_ are defined."
   ]
  },
  {
   "cell_type": "code",
   "execution_count": null,
   "metadata": {},
   "outputs": [],
   "source": [
    "%matplotlib inline\n",
    "%load_ext autoreload"
   ]
  },
  {
   "cell_type": "code",
   "execution_count": null,
   "metadata": {},
   "outputs": [],
   "source": [
    "%autoreload 2"
   ]
  },
  {
   "cell_type": "code",
   "execution_count": null,
   "metadata": {},
   "outputs": [],
   "source": [
    "import os\n",
    "import time\n",
    "import datetime\n",
    "import warnings\n",
    "import matplotlib\n",
    "matplotlib.rcParams.update({'font.size': 16})\n",
    "import pandas\n",
    "import numpy\n",
    "import scipy.stats\n",
    "import abcutils"
   ]
  },
  {
   "cell_type": "markdown",
   "metadata": {},
   "source": [
    "## Load and Synthesize Data from CSV\n",
    "\n",
    "This process loads each summary CSV file, creates a few derived metrics, and then merges each system's CSV into a single global dataset that can be sliced and diced by system, benchmark, or any other way.  We are now caching the processed CSV in HDF5 format to speed up initial data ingest at the beginning of each analysis.  Delete the `CACHE_FILE` to re-generate this cache (e.g., when the contents of the CSV are updated)."
   ]
  },
  {
   "cell_type": "code",
   "execution_count": null,
   "metadata": {
    "scrolled": true
   },
   "outputs": [],
   "source": [
    "filtered_df = abcutils.sc18paper.load_dataset()"
   ]
  },
  {
   "cell_type": "markdown",
   "metadata": {},
   "source": [
    "## Demonstrate a Single Test Platform\n",
    "\n",
    "Look at one combination of (compute system, file system, benchmark) to show what this UMAMI analysis can do.\n",
    "\n",
    "### Define Input Parameters"
   ]
  },
  {
   "cell_type": "code",
   "execution_count": null,
   "metadata": {
    "scrolled": true
   },
   "outputs": [],
   "source": [
    "TEST_PLATFORM = 'scratch2@edison'\n",
    "# TEST_PLATFORM = 'cscratch@cori-knl'\n",
    "# TEST_PLATFORM = 'cscratch@cori-haswell'\n",
    "# TEST_PLATFORM = 'mira-fs1@mira'\n",
    "\n",
    "BENCHMARK_ID = 'ior_fpp_write'\n",
    "# BENCHMARK_ID = 'ior_fpp_read'\n",
    "# BENCHMARK_ID = 'dbscan_read_shared_read'\n",
    "# BENCHMARK_ID = 'vpicio_uni_shared_write'\n",
    "# BENCHMARK_ID = 'ior_shared_write'\n",
    "# BENCHMARK_ID = 'ior_shared_read'\n",
    "# BENCHMARK_ID = 'hacc_io_read_fpp_read'\n",
    "# BENCHMARK_ID = 'hacc_io_write_fpp_write'\n",
    "\n",
    "XLIMS = (long(time.mktime(datetime.datetime(2017, 8, 15).timetuple())),\n",
    "         long(time.mktime(datetime.datetime(2017, 12, 15).timetuple())))\n",
    "\n",
    "plot_metric = 'darshan_normalized_perf_by_max'\n",
    "\n",
    "example_df = filtered_df.groupby(by=['_test_platform', '_benchmark_id']).get_group((TEST_PLATFORM, BENCHMARK_ID)).copy()\n",
    "\n",
    "print \"test_platform =\", TEST_PLATFORM\n",
    "print \"benchmark_id =\", abcutils.CONFIG['benchmark_labels'].get(BENCHMARK_ID, BENCHMARK_ID)\n",
    "print \"plot_metric =\", abcutils.CONFIG['metric_labels'].get(plot_metric, plot_metric)\n",
    "print \"date_start =\", abcutils.sc18paper.DATE_START.isoformat()\n",
    "print \"date_end =\", abcutils.sc18paper.DATE_END.isoformat()"
   ]
  },
  {
   "cell_type": "code",
   "execution_count": null,
   "metadata": {},
   "outputs": [],
   "source": [
    "# Metrics to include in UMAMI renderings and analysis.  Anything that\n",
    "# _might_ affect performance should be included here.\n",
    "umami_rows = [\n",
    "    'darshan_normalized_perf_by_max',\n",
    "    'coverage_factor_bw',\n",
    "#   'coverage_factor_nodehrs',\n",
    "    'coverage_factor_opens',\n",
    "    'coverage_factor_stats',\n",
    "    'coverage_factor_ops',\n",
    "    'fs_ave_mds_cpu',\n",
    "#   'fs_tot_metadata_ops',\n",
    "    'fs_ave_oss_cpu',\n",
    "#   'fs_tot_open_ops',\n",
    "    'fshealth_ost_most_full_pct',\n",
    "    'fshealth_ost_overloaded_oss_count',\n",
    "#   'jobsdb_concurrent_nodes',\n",
    "    'topology_job_max_radius',\n",
    "]"
   ]
  },
  {
   "cell_type": "markdown",
   "metadata": {},
   "source": [
    "## Region-defined Correlation"
   ]
  },
  {
   "cell_type": "code",
   "execution_count": null,
   "metadata": {},
   "outputs": [],
   "source": [
    "# Width of simple moving average (SMA) short/long windows\n",
    "SHORT_WINDOW = pandas.Timedelta(days=14)\n",
    "LONG_WINDOW = pandas.Timedelta(days=49)\n",
    "\n",
    "print \"Short window will average over %s at a time\" % SHORT_WINDOW\n",
    "print \"Long window will average over %s at a time\" % LONG_WINDOW"
   ]
  },
  {
   "cell_type": "markdown",
   "metadata": {},
   "source": [
    "## Calculate intercepts and centroids from SMAs\n",
    "\n",
    "* **Intercepts** are the place where two SMAs cross each other\n",
    "* **Divergence regions** are the data bounded by two intercepts\n",
    "* **Centroids** are the centermost data point in a divergence region\n",
    "\n",
    "With this nomenclature, it is possible to also define **trend regions** which are bounded by two centroids.  These regions capture the transition between two divergence regions."
   ]
  },
  {
   "cell_type": "code",
   "execution_count": null,
   "metadata": {},
   "outputs": [],
   "source": [
    "sma_short = abcutils.features.calculate_sma(example_df,\n",
    "                                            '_datetime_start',\n",
    "                                            plot_metric,\n",
    "                                            window=SHORT_WINDOW)\n",
    "sma_long = abcutils.features.calculate_sma(example_df,\n",
    "                                           '_datetime_start',\n",
    "                                           plot_metric,\n",
    "                                           window=LONG_WINDOW)"
   ]
  },
  {
   "cell_type": "code",
   "execution_count": null,
   "metadata": {},
   "outputs": [],
   "source": [
    "sma_intercepts = abcutils.features.find_sma_intercepts(sma_short,\n",
    "                                                        sma_long,\n",
    "                                                        example_df['_datetime_start'])\n",
    "sma_intercepts"
   ]
  },
  {
   "cell_type": "code",
   "execution_count": null,
   "metadata": {},
   "outputs": [],
   "source": [
    "sma_centroids = abcutils.features.find_sma_centroids(example_df,\n",
    "                                                     sma_short,\n",
    "                                                     sma_long,\n",
    "                                                     sma_intercepts,\n",
    "                                                     x_column='_datetime_start',\n",
    "                                                     min_width=None)"
   ]
  },
  {
   "cell_type": "markdown",
   "metadata": {},
   "source": [
    "### Visualize intercepts and centroids\n",
    "Plot the SMAs, divergence regions, and centroids as a visual sanity check."
   ]
  },
  {
   "cell_type": "code",
   "execution_count": null,
   "metadata": {},
   "outputs": [],
   "source": [
    "print \"First print divergence regions\"\n",
    "ax = abcutils.plot.sma_overlaps(dataframe=example_df,\n",
    "                                plot_metric=plot_metric,\n",
    "                                short_window=SHORT_WINDOW,\n",
    "                                long_window=LONG_WINDOW,\n",
    "                                sma_intercepts=sma_intercepts,\n",
    "                                regioncolors=[\"#0000001A\", \"#FFFFFF00\"],\n",
    "                                method='value')\n",
    "\n",
    "xmin, xmax = ax.get_xlim()\n",
    "ax.set_xlim(xmin, xmax)\n",
    "\n",
    "ymin, ymax = ax.get_ylim()\n",
    "for x in sma_intercepts['_datetime_start']:\n",
    "    ax.plot([abcutils.core.pd2epoch(x), abcutils.core.pd2epoch(x)], [ymin, ymax], color='black', linestyle='--', linewidth=1)\n",
    "\n",
    "#for patch in ax.patches:\n",
    "#   if patch.get_alpha() == 0.5:\n",
    "#       patch.set_alpha(0.9)\n",
    "\n",
    "ax.grid(False)\n",
    "\n",
    "ax.set_ylim(0, 1)\n",
    "ax.set_xlim(XLIMS)\n",
    "ax.get_figure().set_size_inches(8, 3)\n",
    "abcutils.plot.fix_xticks_timeseries(ax, format=\"%b %d\\n%Y\", rotation=0, ha=\"center\")"
   ]
  },
  {
   "cell_type": "code",
   "execution_count": null,
   "metadata": {},
   "outputs": [],
   "source": [
    "print \"\"\"\n",
    "Plot the following:\n",
    "(1) raw data (blue bars)\n",
    "(2) sma_short (thick line #1)\n",
    "(3) sma_long (thick line #2)\n",
    "(4) intercept regions (shaded grey boxes)\n",
    "(5) centroid boundaries (black lines) -- these should bisect grey boxes\n",
    "\"\"\"\n",
    "ax = abcutils.plot.sma_overlaps(dataframe=example_df,\n",
    "                                plot_metric=plot_metric,\n",
    "                                short_window=SHORT_WINDOW,\n",
    "                                long_window=LONG_WINDOW,\n",
    "                                sma_intercepts=sma_intercepts,\n",
    "                                method='value')\n",
    "\n",
    "xmin, xmax = ax.get_xlim()\n",
    "ax.set_xlim(xmin, xmax)\n",
    "\n",
    "# Turn off raw data\n",
    "for patch in ax.patches:\n",
    "    if patch.get_alpha() == 0.5:\n",
    "        patch.set_visible(False)\n",
    "\n",
    "# Add boundaries\n",
    "ymin, ymax = ax.get_ylim()\n",
    "for x in sma_intercepts['_datetime_start']:\n",
    "    ax.plot([abcutils.core.pd2epoch(x), abcutils.core.pd2epoch(x)], [ymin, ymax], color='black', linestyle='--', linewidth=1)\n",
    "        \n",
    "# Add centroids\n",
    "ymin, ymax = ax.get_ylim()\n",
    "for x in sma_centroids['_datetime_start']:\n",
    "    ax.plot([abcutils.core.pd2epoch(x), abcutils.core.pd2epoch(x)], [ymin, ymax], color='red', linestyle='--')\n",
    "\n",
    "ax.set_ylim(0, 1)\n",
    "ax.set_xlim(XLIMS)\n",
    "ax.get_figure().set_size_inches(8, 3)\n",
    "abcutils.plot.fix_xticks_timeseries(ax, format=\"%b %d\\n%Y\", rotation=0, ha=\"center\")"
   ]
  },
  {
   "cell_type": "markdown",
   "metadata": {},
   "source": [
    "### Filter centroids\n",
    "\n",
    "We only care about centroids that show a significant swing in performance."
   ]
  },
  {
   "cell_type": "code",
   "execution_count": null,
   "metadata": {},
   "outputs": [],
   "source": [
    "ax = abcutils.plot.sma_overlaps(dataframe=example_df,\n",
    "                                plot_metric=plot_metric,\n",
    "                                short_window=SHORT_WINDOW,\n",
    "                                long_window=LONG_WINDOW,\n",
    "                                sma_intercepts=sma_centroids,\n",
    "                                method='value')\n",
    "xmin, xmax = ax.get_xlim()\n",
    "ax.set_xlim(xmin, xmax)\n",
    "ymin, ymax = ax.set_ylim(0, 1)\n",
    "for x in sma_centroids['_datetime_start']:\n",
    "    ax.plot([abcutils.core.pd2epoch(x), abcutils.core.pd2epoch(x)], [ymin, ymax], color='red', linestyle='--')\n",
    "\n",
    "# Turn off raw data\n",
    "for patch in ax.patches:\n",
    "    if patch.get_alpha() == 0.5:\n",
    "        patch.set_visible(False)\n",
    "\n",
    "ax.set_ylim(0, 1)\n",
    "ax.set_xlim(XLIMS)\n",
    "ax.get_figure().set_size_inches(8, 3)\n",
    "abcutils.plot.fix_xticks_timeseries(ax, format=\"%b %d\\n%Y\", rotation=0, ha=\"center\")"
   ]
  },
  {
   "cell_type": "markdown",
   "metadata": {},
   "source": [
    "## Plot for paper"
   ]
  },
  {
   "cell_type": "code",
   "execution_count": null,
   "metadata": {},
   "outputs": [],
   "source": [
    "titleopts = {\n",
    "    \"x\": 0.02,\n",
    "    \"y\": 0.05,\n",
    "    \"backgroundcolor\": \"#FFFFFFAA\",\n",
    "    \"ha\": \"left\",\n",
    "    \"fontsize\": 16,\n",
    "}"
   ]
  },
  {
   "cell_type": "code",
   "execution_count": null,
   "metadata": {},
   "outputs": [],
   "source": [
    "fig, axes = matplotlib.pyplot.subplots(nrows=3, ncols=1, figsize=(8, 6), sharex=True)\n",
    "\n",
    "################################################################################\n",
    "# Plot #1\n",
    "ax = axes[0]\n",
    "abcutils.plot.sma_overlaps(dataframe=example_df,\n",
    "                                plot_metric=plot_metric,\n",
    "                                short_window=SHORT_WINDOW,\n",
    "                                long_window=LONG_WINDOW,\n",
    "                                sma_intercepts=sma_intercepts,\n",
    "                                regioncolors=[\"#FFFFFF00\", \"#0000001A\"],\n",
    "                                ax=ax,\n",
    "                                method='value')\n",
    "\n",
    "xmin, xmax = ax.get_xlim()\n",
    "ax.set_xlim(xmin, xmax)\n",
    "\n",
    "ymin, ymax = ax.get_ylim()\n",
    "for x in sma_intercepts['_datetime_start']:\n",
    "    ax.plot([abcutils.core.pd2epoch(x), abcutils.core.pd2epoch(x)], [ymin, ymax], color='black', linestyle='--')\n",
    "\n",
    "#for patch in ax.patches:\n",
    "#   if patch.get_alpha() == 0.5:\n",
    "#       patch.set_alpha(0.9)\n",
    "\n",
    "# Turn off raw data\n",
    "for patch in ax.patches:\n",
    "    if patch.get_alpha() == 0.5:\n",
    "        patch.set_visible(False)\n",
    "\n",
    "ax.grid(False)\n",
    "\n",
    "ax.set_ylim(0, 1)\n",
    "ax.set_xlim(XLIMS)\n",
    "abcutils.plot.fix_xticks_timeseries(ax, format=\"%b %d\\n%Y\", rotation=0, ha=\"center\")\n",
    "yticklabels = [\"%.1f\" % lab for lab in ax.get_yticks()]\n",
    "ax.set_ylabel(\"\")\n",
    "ax.set_yticklabels(yticklabels)\n",
    "ax.set_title(\"(a) Divergence Regions\", **titleopts)\n",
    "\n",
    "\n",
    "\n",
    "################################################################################\n",
    "# Plot #2\n",
    "ax = axes[1]\n",
    "\n",
    "abcutils.plot.sma_overlaps(dataframe=example_df,\n",
    "                                plot_metric=plot_metric,\n",
    "                                short_window=None,\n",
    "                                long_window=None,\n",
    "                                sma_intercepts=sma_intercepts,\n",
    "                                regioncolors=[\"#FFFFFF00\", \"#0000001A\"],\n",
    "                                ax=ax,\n",
    "                                method='value')\n",
    "\n",
    "xmin, xmax = ax.get_xlim()\n",
    "ax.set_xlim(xmin, xmax)\n",
    "ax.grid(False)\n",
    "\n",
    "# Add boundaries\n",
    "ymin, ymax = ax.get_ylim()\n",
    "for x in sma_intercepts['_datetime_start']:\n",
    "    ax.plot([abcutils.core.pd2epoch(x), abcutils.core.pd2epoch(x)], [ymin, ymax], color='black', linestyle='--')\n",
    "        \n",
    "# Add centroids\n",
    "ymin, ymax = ax.get_ylim()\n",
    "for x in sma_centroids['_datetime_start']:\n",
    "    ax.plot([abcutils.core.pd2epoch(x), abcutils.core.pd2epoch(x)], [ymin, ymax], color='red', linestyle='--')\n",
    "\n",
    "ax.set_ylim(0, 1)\n",
    "ax.set_xlim(XLIMS)\n",
    "ax.set_yticklabels(yticklabels[0:-1])\n",
    "ax.set_ylabel(\"\")\n",
    "abcutils.plot.fix_xticks_timeseries(ax, format=\"%b %d\\n%Y\", rotation=0, ha=\"center\")\n",
    "ax.set_title(\"(b)\", **titleopts)\n",
    "\n",
    "\n",
    "\n",
    "\n",
    "################################################################################\n",
    "# plot #3\n",
    "ax = axes[2]\n",
    "abcutils.plot.sma_overlaps(dataframe=example_df,\n",
    "                                plot_metric=plot_metric,\n",
    "                                short_window=SHORT_WINDOW,\n",
    "                                long_window=LONG_WINDOW,\n",
    "                                sma_intercepts=sma_centroids,\n",
    "                                regioncolors=[\"#0000001A\", \"#FFFFFF00\"],\n",
    "                                ax=ax,\n",
    "                                method='value')\n",
    "xmin, xmax = ax.get_xlim()\n",
    "ax.set_xlim(xmin, xmax)\n",
    "ymin, ymax = ax.set_ylim(0, 1)\n",
    "for x in sma_centroids['_datetime_start']:\n",
    "    ax.plot([abcutils.core.pd2epoch(x), abcutils.core.pd2epoch(x)], [ymin, ymax], color='red', linestyle='--')\n",
    "\n",
    "# Turn off raw data\n",
    "for patch in ax.patches:\n",
    "    if patch.get_alpha() == 0.5:\n",
    "        patch.set_visible(False)\n",
    "\n",
    "ax.grid(False)\n",
    "ax.set_ylim(0, 1)\n",
    "ax.set_yticklabels(yticklabels[0:-1])\n",
    "ax.set_xlim(XLIMS)\n",
    "ax.set_ylabel(\"\")\n",
    "ax.set_title(\"(c) Trend Regions\", **titleopts)\n",
    "\n",
    "ax.get_lines()[0].set_label(\"$SMA_{%d}$\" % SHORT_WINDOW.days)\n",
    "ax.get_lines()[1].set_label(\"$SMA_{%d}$\" % LONG_WINDOW.days)\n",
    "ax.legend(loc='lower right',\n",
    "          bbox_to_anchor=(1.01, -0.04),\n",
    "          ncol=1,)\n",
    "\n",
    "\n",
    "fig.text(0.04, 0.5,\n",
    "         \"Fraction Peak Performance\",\n",
    "         verticalalignment='center',\n",
    "         horizontalalignment='center',\n",
    "         rotation='vertical',\n",
    "         fontsize=16)\n",
    "\n",
    "\n",
    "fig.subplots_adjust(hspace=0.0, wspace=0.05)\n",
    "abcutils.plot.fix_xticks_timeseries(ax, format=\"%b %d\\n%Y\", rotation=0, ha=\"center\")\n",
    "\n",
    "fixed_labels = []\n",
    "for xticklabel in ax.get_xticklabels():\n",
    "    fixed_labels.append(xticklabel.get_text().replace('0', '', 1))\n",
    "ax.set_xticklabels(fixed_labels)\n",
    "fig.savefig('figs/segment-explain.pdf', bbox_inches='tight')"
   ]
  },
  {
   "cell_type": "code",
   "execution_count": null,
   "metadata": {},
   "outputs": [],
   "source": []
  },
  {
   "cell_type": "code",
   "execution_count": null,
   "metadata": {},
   "outputs": [],
   "source": []
  }
 ],
 "metadata": {
  "kernelspec": {
   "display_name": "Python 2",
   "language": "python",
   "name": "python2"
  },
  "language_info": {
   "codemirror_mode": {
    "name": "ipython",
    "version": 2
   },
   "file_extension": ".py",
   "mimetype": "text/x-python",
   "name": "python",
   "nbconvert_exporter": "python",
   "pygments_lexer": "ipython2",
   "version": "2.7.14"
  }
 },
 "nbformat": 4,
 "nbformat_minor": 2
}
