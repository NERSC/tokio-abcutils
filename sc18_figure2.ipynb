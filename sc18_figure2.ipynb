{
 "cells": [
  {
   "cell_type": "code",
   "execution_count": null,
   "metadata": {},
   "outputs": [],
   "source": [
    "%matplotlib inline\n",
    "%load_ext autoreload"
   ]
  },
  {
   "cell_type": "code",
   "execution_count": null,
   "metadata": {},
   "outputs": [],
   "source": [
    "import os\n",
    "import time\n",
    "import datetime\n",
    "import pandas\n",
    "import numpy\n",
    "import scipy.stats\n",
    "import abcutils\n",
    "import matplotlib\n",
    "matplotlib.rcParams.update({'font.size': 16})"
   ]
  },
  {
   "cell_type": "markdown",
   "metadata": {},
   "source": [
    "## Global Analysis Constants"
   ]
  },
  {
   "cell_type": "markdown",
   "metadata": {},
   "source": [
    "## Load and Synthesize Data from CSV"
   ]
  },
  {
   "cell_type": "code",
   "execution_count": null,
   "metadata": {
    "scrolled": false
   },
   "outputs": [],
   "source": [
    "filtered_df = abcutils.sc18paper.load_dataset()"
   ]
  },
  {
   "cell_type": "code",
   "execution_count": null,
   "metadata": {},
   "outputs": [],
   "source": [
    "filtered_df.describe().T"
   ]
  },
  {
   "cell_type": "markdown",
   "metadata": {},
   "source": [
    "## Basic Statistics"
   ]
  },
  {
   "cell_type": "code",
   "execution_count": null,
   "metadata": {},
   "outputs": [],
   "source": [
    "TEST_PLATFORMS = sorted(list(filtered_df['_test_platform'].unique()))\n",
    "print \"Test Platforms:\\n  \" + \"\\n  \".join(TEST_PLATFORMS)\n",
    "\n",
    "BENCHMARK_IDS = sorted(list(filtered_df['_benchmark_id'].unique()))\n",
    "print \"\\nBenchmarks:\\n  \" + \"\\n  \".join(BENCHMARK_IDS)"
   ]
  },
  {
   "cell_type": "code",
   "execution_count": null,
   "metadata": {},
   "outputs": [],
   "source": [
    "total_days = (abcutils.sc18paper.DATE_END - abcutils.sc18paper.DATE_START).total_seconds() / 86400\n",
    "print \"Total days: %.1f\" % total_days\n",
    "\n",
    "total_logs = filtered_df['darshan_agg_perf_by_slowest_posix'].count()\n",
    "print \"Total darshan logs: %d\" % total_logs\n",
    "\n",
    "expected_logs = (total_days * len(TEST_PLATFORMS) * len(BENCHMARK_IDS))\n",
    "percent_found = 100.0 * total_logs / expected_logs\n",
    "print \"Percent benchmarks run: %.1f%%\" % (percent_found)\n",
    "print \"Percent benchmarks missing: %.1f%%\" % (100 - percent_found)\n",
    "\n",
    "grouped_df = filtered_df.groupby(['_test_platform', '_benchmark_id'])\n",
    "grouped_df['darshan_agg_perf_by_slowest_posix'].describe()['count'] / total_days"
   ]
  },
  {
   "cell_type": "code",
   "execution_count": null,
   "metadata": {},
   "outputs": [],
   "source": [
    "grouped_df['_datetime_start'].describe()"
   ]
  },
  {
   "cell_type": "markdown",
   "metadata": {},
   "source": [
    "## Boxplots"
   ]
  },
  {
   "cell_type": "code",
   "execution_count": null,
   "metadata": {},
   "outputs": [],
   "source": [
    "TEST_PLATFORMS = [\n",
    "    'scratch1@edison',\n",
    "#   'scratch2@edison',\n",
    "    'scratch3@edison',\n",
    "    'cscratch@cori-knl',\n",
    "    'mira-fs1@mira'\n",
    "]"
   ]
  },
  {
   "cell_type": "code",
   "execution_count": null,
   "metadata": {},
   "outputs": [],
   "source": [
    "boxplot_settings = {\n",
    "    'fontsize': 16,\n",
    "    'darshan_normalized_perf_by_max': {\n",
    "        'output_file': \"perf-boxplots.pdf\",\n",
    "        'ylabel': \"Fraction Peak Performance\",\n",
    "        'title_pos': [ \n",
    "            {'x': 0.04, 'y': 0.02, 'horizontalalignment': 'left', 'fontsize': 16},\n",
    "            {'x': 0.04, 'y': 0.02, 'horizontalalignment': 'left', 'fontsize': 16}]\n",
    "    },\n",
    "}"
   ]
  },
  {
   "cell_type": "code",
   "execution_count": null,
   "metadata": {
    "scrolled": false
   },
   "outputs": [],
   "source": [
    "NUM_ROWS = 2\n",
    "NUM_COLS = len(TEST_PLATFORMS) / 2\n",
    "\n",
    "assert NUM_ROWS * NUM_COLS == len(TEST_PLATFORMS)\n",
    "\n",
    "grouped_df = filtered_df.groupby('_test_platform')\n",
    "\n",
    "fig, axes = matplotlib.pyplot.subplots(nrows=NUM_ROWS,\n",
    "                                       ncols=NUM_COLS,\n",
    "                                       # sharex causes problems if not all axes contain data\n",
    "                                       #sharex=True,\n",
    "                                       sharey=True)\n",
    "fig.set_size_inches(4*NUM_COLS,3*NUM_ROWS)\n",
    "\n",
    "### Draw subplots that contain data\n",
    "for index, fs in enumerate(TEST_PLATFORMS):\n",
    "    irow = index / NUM_COLS\n",
    "    icol = index % NUM_COLS\n",
    "    ax = axes[irow, icol]\n",
    "    abcutils.plot.grouped_boxplot(grouped_df.get_group(fs),\n",
    "                                  'darshan_normalized_perf_by_max',\n",
    "                                  ax=ax,\n",
    "                                  fontsize=16)\n",
    "    title = ax.set_title(\n",
    "        abcutils.CONFIG['platform_labels'].get(fs, fs), \n",
    "        **(boxplot_settings['darshan_normalized_perf_by_max']['title_pos'][irow]))\n",
    "    title.set_bbox({'color': 'white', 'alpha': 0.5})\n",
    "#   ax.set_xticklabels(ax.get_xticklabels(), rotation=45, ha=\"right\")\n",
    "\n",
    "### Set global figure labels \n",
    "fig.suptitle(\"\")\n",
    "fig.text(0.02, 0.5,\n",
    "         boxplot_settings['darshan_normalized_perf_by_max']['ylabel'],\n",
    "         verticalalignment='center',\n",
    "         horizontalalignment='center',\n",
    "         rotation='vertical',\n",
    "         fontsize=boxplot_settings['fontsize'])\n",
    "fig.subplots_adjust(hspace=0.05, wspace=0.05)\n",
    "fig.savefig('figs/summary-boxplots.pdf', bbox_inches='tight')"
   ]
  }
 ],
 "metadata": {
  "kernelspec": {
   "display_name": "Python 2",
   "language": "python",
   "name": "python2"
  },
  "language_info": {
   "codemirror_mode": {
    "name": "ipython",
    "version": 2
   },
   "file_extension": ".py",
   "mimetype": "text/x-python",
   "name": "python",
   "nbconvert_exporter": "python",
   "pygments_lexer": "ipython2",
   "version": "2.7.14"
  }
 },
 "nbformat": 4,
 "nbformat_minor": 2
}
