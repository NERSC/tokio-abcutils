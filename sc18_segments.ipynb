{
 "cells": [
  {
   "cell_type": "code",
   "execution_count": null,
   "metadata": {},
   "outputs": [],
   "source": [
    "%matplotlib inline\n",
    "%load_ext autoreload"
   ]
  },
  {
   "cell_type": "code",
   "execution_count": null,
   "metadata": {},
   "outputs": [],
   "source": [
    "%autoreload 2"
   ]
  },
  {
   "cell_type": "code",
   "execution_count": null,
   "metadata": {},
   "outputs": [],
   "source": [
    "import os\n",
    "import time\n",
    "import datetime\n",
    "import warnings\n",
    "import matplotlib\n",
    "matplotlib.rcParams.update({'font.size': 16})\n",
    "import pandas\n",
    "import numpy\n",
    "import scipy.stats\n",
    "import abcutils"
   ]
  },
  {
   "cell_type": "markdown",
   "metadata": {},
   "source": [
    "## Load and Synthesize Data from CSV\n",
    "\n",
    "This process loads each summary CSV file, creates a few derived metrics, and then merges each system's CSV into a single global dataset that can be sliced and diced by system, benchmark, or any other way.  We are now caching the processed CSV in HDF5 format to speed up initial data ingest at the beginning of each analysis.  Delete the `CACHE_FILE` to re-generate this cache (e.g., when the contents of the CSV are updated)."
   ]
  },
  {
   "cell_type": "code",
   "execution_count": null,
   "metadata": {
    "scrolled": true
   },
   "outputs": [],
   "source": [
    "filtered_df = abcutils.sc18paper.load_dataset()"
   ]
  },
  {
   "cell_type": "markdown",
   "metadata": {},
   "source": [
    "## Demonstrate a Single Test Platform\n",
    "\n",
    "Look at one combination of (compute system, file system, benchmark) to show what this UMAMI analysis can do.\n",
    "\n",
    "### Define Input Parameters"
   ]
  },
  {
   "cell_type": "code",
   "execution_count": null,
   "metadata": {
    "scrolled": true
   },
   "outputs": [],
   "source": [
    "# TEST_PLATFORM = 'scratch2@edison'\n",
    "TEST_PLATFORM = 'cscratch@cori-knl'\n",
    "#TEST_PLATFORM = 'cscratch@cori-haswell'\n",
    "#TEST_PLATFORM = 'mira-fs1@mira'\n",
    "\n",
    "# BENCHMARK_ID = 'ior_fpp_write'\n",
    "# BENCHMARK_ID = 'dbscan_read_shared_read'\n",
    "# BENCHMARK_ID = 'vpicio_uni_shared_write'\n",
    "# BENCHMARK_ID = 'ior_shared_write'\n",
    "BENCHMARK_ID = 'hacc_io_read_fpp_read'\n",
    "# BENCHMARK_ID = 'hacc_io_write_fpp_write'\n",
    "\n",
    "plot_metric = 'darshan_agg_perf_by_slowest_posix_gibs'\n",
    "delta = datetime.timedelta(days=1).total_seconds()\n",
    "\n",
    "group_by = ['_test_platform', '_benchmark_id']\n",
    "\n",
    "example_df = filtered_df.groupby(by=group_by).get_group((TEST_PLATFORM, BENCHMARK_ID)).copy()\n",
    "\n",
    "print \"test_platform =\", TEST_PLATFORM\n",
    "print \"benchmark_id =\", abcutils.CONFIG['benchmark_labels'].get(BENCHMARK_ID, BENCHMARK_ID)\n",
    "print \"plot_metric =\", abcutils.CONFIG['metric_labels'].get(plot_metric, plot_metric)\n",
    "print \"date_start =\", abcutils.sc18paper.DATE_START.isoformat()\n",
    "print \"date_end =\", abcutils.sc18paper.DATE_END.isoformat()"
   ]
  },
  {
   "cell_type": "code",
   "execution_count": null,
   "metadata": {},
   "outputs": [],
   "source": [
    "# Width of simple moving average (SMA) short/long windows\n",
    "abcutils.features.SHORT_WINDOW = pandas.Timedelta(days=7)\n",
    "abcutils.features.LONG_WINDOW = pandas.Timedelta(days=48)\n",
    "\n",
    "short_window = abcutils.features.SHORT_WINDOW\n",
    "long_window = abcutils.features.LONG_WINDOW\n",
    "\n",
    "print \"Short window will average over %s at a time\" % short_window\n",
    "print \"Long window will average over %s at a time\" % long_window"
   ]
  },
  {
   "cell_type": "markdown",
   "metadata": {},
   "source": [
    "## Calculate Simple Moving Averages (SMAs)\n",
    "\n",
    "Compare a short-window SMA and a long-window SMA and use the places where they cross over to divide the entire year into _regions_ of interesting benchmark behavior."
   ]
  },
  {
   "cell_type": "code",
   "execution_count": null,
   "metadata": {
    "scrolled": false
   },
   "outputs": [],
   "source": [
    "loci = abcutils.features.generate_loci_sma(example_df, plot_metric, mins=True, maxes=False)\n",
    "ax = abcutils.plot.locus_summary(example_df, plot_metric, loci)\n",
    "ax.get_figure().suptitle(\"%s on %s\" % (abcutils.CONFIG['benchmark_labels'].get(BENCHMARK_ID, BENCHMARK_ID), TEST_PLATFORM))"
   ]
  },
  {
   "cell_type": "markdown",
   "metadata": {},
   "source": [
    "## Calculate regions with a minimum size"
   ]
  },
  {
   "cell_type": "code",
   "execution_count": null,
   "metadata": {},
   "outputs": [],
   "source": [
    "SHORT_WINDOW = pandas.Timedelta(days=7)\n",
    "LONG_WINDOW = pandas.Timedelta(days=28)"
   ]
  },
  {
   "cell_type": "code",
   "execution_count": null,
   "metadata": {},
   "outputs": [],
   "source": [
    "sma_intercepts = abcutils.features.sma_intercepts(example_df,\n",
    "                                                  plot_metric,\n",
    "                                                  short_window=SHORT_WINDOW,\n",
    "                                                  long_window=LONG_WINDOW,\n",
    "                                                  min_width=SHORT_WINDOW)\n",
    "sma_intercepts"
   ]
  },
  {
   "cell_type": "code",
   "execution_count": null,
   "metadata": {},
   "outputs": [],
   "source": [
    "ax = abcutils.plot.sma_overlaps(dataframe=example_df,\n",
    "                                plot_metric=plot_metric,\n",
    "                                short_window=SHORT_WINDOW,\n",
    "                                long_window=LONG_WINDOW,\n",
    "                                sma_intercepts=sma_intercepts,\n",
    "                                method='value')\n",
    "\n",
    "global_mean = example_df[plot_metric].mean()\n",
    "xmin, xmax = ax.get_xlim()\n",
    "#ax.plot([xmin, xmax], [global_mean, global_mean], color='C4')\n",
    "ax.set_xlim(xmin, xmax)"
   ]
  },
  {
   "cell_type": "markdown",
   "metadata": {},
   "source": [
    "Count the number of regions in each dataset.  This takes a while!"
   ]
  },
  {
   "cell_type": "code",
   "execution_count": null,
   "metadata": {},
   "outputs": [],
   "source": [
    "TEST_PLATFORMS = [\n",
    "    'scratch1@edison',\n",
    "    'scratch2@edison',\n",
    "    'scratch3@edison',\n",
    "    'cscratch@cori-knl',\n",
    "    'mira-fs1@mira'\n",
    "]\n",
    "\n",
    "BENCHMARK_IDS = filtered_df['_benchmark_id'].unique()\n",
    "\n",
    "#for _test_platform in TEST_PLATFORMS:\n",
    "#    for _benchmark_id in BENCHMARK_IDS:\n",
    "#        example_df = filtered_df.groupby(by=group_by).get_group((_test_platform, _benchmark_id))\n",
    "#        sma_intercepts = abcutils.features.sma_intercepts(example_df,\n",
    "#                                                      plot_metric,\n",
    "#                                                      short_window=SHORT_WINDOW,\n",
    "#                                                      long_window=LONG_WINDOW,\n",
    "#                                                      min_width=SHORT_WINDOW)\n",
    "#        print _test_platform, _benchmark_id, len(sma_intercepts.index)"
   ]
  },
  {
   "cell_type": "markdown",
   "metadata": {},
   "source": [
    "## Baseline SMA vs Global Mean"
   ]
  },
  {
   "cell_type": "code",
   "execution_count": null,
   "metadata": {},
   "outputs": [],
   "source": [
    "SHORT_WINDOW = pandas.Timedelta(days=14)\n",
    "LONG_WINDOW = pandas.Timedelta(days=3*365)\n",
    "#LONG_WINDOW = pandas.Timedelta(days=56)\n",
    "\n",
    "print \"Using a short window of\", SHORT_WINDOW"
   ]
  },
  {
   "cell_type": "code",
   "execution_count": null,
   "metadata": {},
   "outputs": [],
   "source": [
    "fig, axes = matplotlib.pyplot.subplots(nrows=2, ncols=1, figsize=(8, 6), sharex=True)\n",
    "#gridspec = matplotlib.gridspec.GridSpec(2, 1)\n",
    "\n",
    "YMAX = 500\n",
    "YSTEP = 100\n",
    "\n",
    "sma_intercepts_list = []\n",
    "\n",
    "labels = [\"(a) HACC write\", \"(b) HACC read\"]\n",
    "for index, _benchmark_id in enumerate(['hacc_io_write_fpp_write', 'hacc_io_read_fpp_read']):\n",
    "    _example_df = filtered_df.groupby(by=group_by).get_group((TEST_PLATFORM, _benchmark_id))\n",
    "    \n",
    "    sma_short = abcutils.features.calculate_sma(_example_df,\n",
    "                                                '_datetime_start',\n",
    "                                                plot_metric,\n",
    "                                                window=SHORT_WINDOW)\n",
    "#   sma_long = abcutils.features.calculate_sma(_example_df,\n",
    "#                                              '_datetime_start',\n",
    "#                                              plot_metric,\n",
    "#                                              window=LONG_WINDOW)\n",
    "\n",
    "    # use the global mean rather than rely on a sufficiently long window to calculate it--just to be safe!\n",
    "    sma_long = pandas.Series(_example_df[plot_metric].mean(), index=sma_short.index)\n",
    "    \n",
    "    sma_intercepts = abcutils.features.find_sma_intercepts(sma_short, sma_long, _example_df['_datetime_start'])\n",
    "    sma_intercepts_list.append(sma_intercepts)\n",
    "    \n",
    "    ax = axes[index]\n",
    "    abcutils.plot.sma_overlaps(dataframe=_example_df,\n",
    "                               plot_metric=plot_metric,\n",
    "                               short_window=SHORT_WINDOW,\n",
    "                               long_window=LONG_WINDOW,\n",
    "                               sma_intercepts=sma_intercepts,\n",
    "                               ax=ax,\n",
    "                               method='value')\n",
    "    # Add intercepts\n",
    "#   y_min, y_max = ax.get_ylim()\n",
    "#   for row in sma_intercepts.itertuples():\n",
    "#       x_val = abcutils.core.pd2epoch(row[1])\n",
    "#       ax.plot([x_val, x_val], [y_min, y_max], color='black', linestyle='--')\n",
    "#       print \"intercept in\", index\n",
    "\n",
    "for index, ax in enumerate(fig.axes):\n",
    "    # Restyle the SMA lines\n",
    "    ax.get_lines()[1].set_color('C2')\n",
    "    if LONG_WINDOW.days > 365*2:\n",
    "#       ax.get_lines()[1].set_label(\"$SMA_\\infty$\")\n",
    "        ax.get_lines()[1].set_label(\"Global mean\")\n",
    "    else:\n",
    "        ax.get_lines()[1].set_label(\"$SMA_{%d}$\" % LONG_WINDOW.days)\n",
    "    ax.get_lines()[0].set_label(\"$SMA_{%d}$\" % SHORT_WINDOW.days)\n",
    "    \n",
    "    # Set x ticks\n",
    "    abcutils.plot.fix_xticks_timeseries(ax, format=\"%b %d, %Y\")\n",
    "\n",
    "    # Set pane label\n",
    "    ax.set_title(labels[index], x=0.025, y=0.825, fontsize=16, ha='left')\n",
    "\n",
    "    # Fix y labels and limits\n",
    "    ax.set_ylabel(\"\")\n",
    "    y_min, y_max = ax.set_ylim(0, YMAX)\n",
    "    if index == 0:\n",
    "        ax.set_yticks(range(0, YMAX + YSTEP, YSTEP))\n",
    "    else:\n",
    "        ax.set_yticks(range(0, YMAX, YSTEP))\n",
    "        \n",
    "    # Recolor bars and remove patches\n",
    "    for bar in [rect for rect in ax.get_children() if isinstance(rect, matplotlib.patches.Rectangle)]:\n",
    "        if bar.get_width() == 86400:\n",
    "#           bar.set_alpha(1.0)\n",
    "            pass\n",
    "        else:\n",
    "            # make bars taller to fit the new ylim\n",
    "#           if sum(bar.get_facecolor()[0:3]) == 0.0:\n",
    "#               bar.set_height(y_max)\n",
    "            bar.set_visible(False)\n",
    "    \n",
    "print \"Showing\", abcutils.CONFIG['metric_labels'].get(plot_metric, plot_metric)\n",
    "print \"Test platform:\", TEST_PLATFORM\n",
    "print \"Benchmark:\", abcutils.CONFIG['benchmark_labels'].get(BENCHMARK_ID, BENCHMARK_ID)\n",
    "print \"Mean performance:\", global_mean\n",
    "print \"SMA window:\", SHORT_WINDOW\n",
    "output_file = \"figs/longterm-%s-%s.pdf\" % (TEST_PLATFORM.split('@', 1)[0], BENCHMARK_ID.split('_', 1)[0])\n",
    "fig.subplots_adjust(hspace=0.0, wspace=0.0)\n",
    "axes[1].legend(loc='upper right')#, bbox_to_anchor=(1.00, 0.0))\n",
    "\n",
    "\n",
    "fig.text(0.02, 0.5,\n",
    "         \"Performance (GiB/s)\",\n",
    "         verticalalignment='center',\n",
    "         horizontalalignment='center',\n",
    "         rotation='vertical',\n",
    "         fontsize=16)\n",
    "\n",
    "fig.savefig(output_file, bbox_inches='tight')\n",
    "print \"Saved to\", output_file"
   ]
  },
  {
   "cell_type": "markdown",
   "metadata": {},
   "source": [
    "Plot a histogram of the region widths for fun."
   ]
  },
  {
   "cell_type": "code",
   "execution_count": null,
   "metadata": {},
   "outputs": [],
   "source": [
    "fig, ax = matplotlib.pyplot.subplots()\n",
    "for intindex, sma_intercepts in enumerate(sma_intercepts_list):\n",
    "    vals = []\n",
    "    for index in range(1, len(sma_intercepts)):\n",
    "        delta = sma_intercepts.iloc[index]['_datetime_start'] - sma_intercepts.iloc[index - 1]['_datetime_start']\n",
    "#       print delta\n",
    "        vals.append(delta.total_seconds() / 86400)\n",
    "    ax.hist(vals, alpha=0.5, linewidth=2, edgecolor='black', label=labels[intindex])\n",
    "    print \"Sorted widths (days):\", sorted([round(x) for x in vals])\n",
    "    print \"# values:\", len(vals)\n",
    "    print \"avg width:\", numpy.mean(vals)\n",
    "    print \"median:   \", numpy.median(vals)\n",
    "\n",
    "    #ax.set_xscale(\"log\")\n",
    "ax.grid()\n",
    "ax.legend()\n",
    "ax.set_ylabel(\"Number of regions\")\n",
    "ax.set_xlabel(\"Region width (days)\")"
   ]
  },
  {
   "cell_type": "markdown",
   "metadata": {},
   "source": [
    "## Difference between SMAs"
   ]
  },
  {
   "cell_type": "code",
   "execution_count": null,
   "metadata": {
    "scrolled": true
   },
   "outputs": [],
   "source": [
    "fig, ax = matplotlib.pyplot.subplots(figsize=(8,4))\n",
    "\n",
    "ax.grid()\n",
    "ax.plot(sma_short - sma_long)"
   ]
  },
  {
   "cell_type": "code",
   "execution_count": null,
   "metadata": {},
   "outputs": [],
   "source": []
  }
 ],
 "metadata": {
  "kernelspec": {
   "display_name": "Python 2",
   "language": "python",
   "name": "python2"
  },
  "language_info": {
   "codemirror_mode": {
    "name": "ipython",
    "version": 2
   },
   "file_extension": ".py",
   "mimetype": "text/x-python",
   "name": "python",
   "nbconvert_exporter": "python",
   "pygments_lexer": "ipython2",
   "version": "2.7.14"
  }
 },
 "nbformat": 4,
 "nbformat_minor": 2
}
