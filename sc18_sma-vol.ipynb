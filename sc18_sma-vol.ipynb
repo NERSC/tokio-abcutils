{
 "cells": [
  {
   "cell_type": "code",
   "execution_count": null,
   "metadata": {},
   "outputs": [],
   "source": [
    "%matplotlib inline\n",
    "%load_ext autoreload"
   ]
  },
  {
   "cell_type": "code",
   "execution_count": null,
   "metadata": {},
   "outputs": [],
   "source": [
    "%autoreload 2"
   ]
  },
  {
   "cell_type": "code",
   "execution_count": null,
   "metadata": {},
   "outputs": [],
   "source": [
    "import os\n",
    "import time\n",
    "import datetime\n",
    "import pandas\n",
    "import numpy\n",
    "import scipy.stats\n",
    "import abcutils\n",
    "import matplotlib\n",
    "matplotlib.rcParams.update({'font.size': 16})"
   ]
  },
  {
   "cell_type": "markdown",
   "metadata": {},
   "source": [
    "## Global Analysis Constants"
   ]
  },
  {
   "cell_type": "code",
   "execution_count": null,
   "metadata": {},
   "outputs": [],
   "source": [
    "TEST_PLATFORMS = [\n",
    "    'scratch1@edison',\n",
    "    'scratch2@edison',\n",
    "    'scratch3@edison',\n",
    "    'cscratch@cori-knl',\n",
    "    'mira-fs1@mira'\n",
    "]"
   ]
  },
  {
   "cell_type": "markdown",
   "metadata": {},
   "source": [
    "## Load and Synthesize Data from CSV"
   ]
  },
  {
   "cell_type": "code",
   "execution_count": null,
   "metadata": {
    "scrolled": true
   },
   "outputs": [],
   "source": [
    "filtered_df = abcutils.sc18paper.load_dataset()\n",
    "filtered_df['fs_tot_bytes_tibs'] = filtered_df['fs_tot_bytes'] / 2.0**(40)"
   ]
  },
  {
   "cell_type": "code",
   "execution_count": null,
   "metadata": {},
   "outputs": [],
   "source": [
    "test_platform = 'mira-fs1@mira'\n",
    "benchmark_id = 'ior_fpp_write'\n",
    "perf_metric = 'darshan_normalized_perf_by_max'\n",
    "vol_metric = 'fs_tot_bytes_tibs'\n",
    "group_by = [ '_test_platform', '_benchmark_id' ]\n",
    "\n",
    "example_df = filtered_df.groupby(by=group_by).get_group((test_platform, benchmark_id))"
   ]
  },
  {
   "cell_type": "code",
   "execution_count": null,
   "metadata": {},
   "outputs": [],
   "source": [
    "def timeseries_smaplot(dataframe, plot_metric, window=10, ax=None, **kwargs):\n",
    "    sma_series = abcutils.features.calculate_sma(dataframe=dataframe,\n",
    "                                                 x_column='_datetime_start',\n",
    "                                                 y_column=plot_metric,\n",
    "                                                 window=window)\n",
    "    x = [abcutils.core.pd2epoch(x) for x in sma_series.index]\n",
    "    y = sma_series.values\n",
    "\n",
    "    ax.plot(x, y, linestyle='-', label=str(window)+'-day sma', **kwargs)"
   ]
  },
  {
   "cell_type": "code",
   "execution_count": null,
   "metadata": {},
   "outputs": [],
   "source": [
    "fig, axes = matplotlib.pyplot.subplots(nrows=4, ncols=1, sharex=True)\n",
    "fig.set_size_inches(20, 12)\n",
    "\n",
    "x_raw = example_df['_datetime_start'].apply(lambda x: time.mktime(x.timetuple()))\n",
    "y_perf_raw = example_df[perf_metric]\n",
    "y_vol_raw = example_df[vol_metric]\n",
    "\n",
    "ax = axes[0]\n",
    "ax.plot(x_raw, y_perf_raw, linestyle='-', marker='.')\n",
    "ax.grid()\n",
    "ax.set_title(\"%s on %s\" % (abcutils.CONFIG['benchmark_labels'].get(benchmark_id, benchmark_id),\n",
    "                           test_platform))\n",
    "ax.set_xticklabels([datetime.datetime.fromtimestamp(x).strftime(\"%Y-%m-%d\") for x in ax.get_xticks()])\n",
    "ax.set_ylim(0, 1)\n",
    "ax.set_ylabel(abcutils.CONFIG['metric_labels'].get('darshan_normalized_perf_by_max', 'darshan_normalized_perf_by_max'))\n",
    "\n",
    "ax2 = ax.twinx()\n",
    "ax2.bar(x_raw.values, y_vol_raw, width=(60*60*10), **{'color': 'C1'})\n",
    "ax2.set_ylabel('Total Volume (TiB)')\n",
    "ax2.set_ylim(0, 15)\n",
    "yticks = numpy.arange(0, 6, 1)\n",
    "ax2.set_yticks(numpy.arange(0, 6, 1))\n",
    "ax2.set_yticklabels(numpy.arange(0, 6, 1))\n",
    "\n",
    "ax = axes[1]\n",
    "timeseries_smaplot(example_df, perf_metric, 10, ax=ax, color='C1')\n",
    "timeseries_smaplot(example_df, perf_metric, 50, ax=ax, color='C2')\n",
    "timeseries_smaplot(example_df, perf_metric, 100, ax=ax, color='C3')\n",
    "ax.grid()\n",
    "#ax.set_ylim(0, 1)\n",
    "ax.set_ylabel(abcutils.CONFIG['metric_labels'].get('darshan_normalized_perf_by_max', 'darshan_normalized_perf_by_max'))\n",
    "ax.legend()\n",
    "\n",
    "ax = axes[2]\n",
    "timeseries_smaplot(example_df, vol_metric, 10, ax=ax, color='C1')\n",
    "timeseries_smaplot(example_df, vol_metric, 50, ax=ax, color='C2')\n",
    "timeseries_smaplot(example_df, vol_metric, 100, ax=ax, color='C3')\n",
    "ax.grid()\n",
    "ax.set_ylabel('Total Volume (TiB)')\n",
    "ax.set_ylim(0, 5)\n",
    "ax2.set_yticks(numpy.arange(0, 6, 1))\n",
    "#ax2.set_yticklabels(numpy.arange(0, 6, 1))\n",
    "ax.legend()\n",
    "\n",
    "ax = axes[3]\n",
    "timeseries_smaplot(example_df, 'coverage_factor_bw', 10, ax=ax, color='C1')\n",
    "timeseries_smaplot(example_df, 'coverage_factor_bw', 50, ax=ax, color='C2')\n",
    "timeseries_smaplot(example_df, 'coverage_factor_bw', 100, ax=ax, color='C3')\n",
    "ax.scatter(x_raw, example_df['coverage_factor_bw'], marker='.', alpha=0.25)\n",
    "ax.grid()\n",
    "ax.set_ylabel('Bandwidth\\nCoverage\\nFactor')\n",
    "ax.set_ylim(0, 1.2)\n",
    "ax.legend()\n",
    "\n",
    "fig.subplots_adjust(hspace=0.1, wspace=0.1)\n",
    "\n",
    "pass"
   ]
  },
  {
   "cell_type": "markdown",
   "metadata": {},
   "source": [
    "## Quantify Correlation\n",
    "\n",
    "Quantify the correlation between the total volume of bytes moved and the fraction peak performance of each job."
   ]
  },
  {
   "cell_type": "code",
   "execution_count": null,
   "metadata": {},
   "outputs": [],
   "source": [
    "correlate_df = example_df[['_datetime_start', perf_metric, vol_metric]].dropna()\n",
    "\n",
    "sma_perf = abcutils.features.calculate_sma(correlate_df, '_datetime_start', perf_metric, 10).dropna()\n",
    "sma_vol = abcutils.features.calculate_sma(correlate_df, '_datetime_start', vol_metric, 10).dropna()\n",
    "\n",
    "print \"Correlation coefficient (out of 1.0): %.3f\\np-value (< 1.0e-5 is good): %.3e\" % scipy.stats.pearsonr(x=sma_perf, y=sma_vol)\n",
    "\n",
    "fig, ax = matplotlib.pyplot.subplots()\n",
    "ax.scatter(sma_perf, sma_vol, marker='.')\n",
    "ax.set_xlabel(\"Fraction Peak Performance\")\n",
    "ax.set_ylabel(\"Total Data Moved (TiBs)\")\n",
    "ax.grid()"
   ]
  },
  {
   "cell_type": "code",
   "execution_count": null,
   "metadata": {},
   "outputs": [],
   "source": []
  }
 ],
 "metadata": {
  "kernelspec": {
   "display_name": "Python 2",
   "language": "python",
   "name": "python2"
  },
  "language_info": {
   "codemirror_mode": {
    "name": "ipython",
    "version": 2
   },
   "file_extension": ".py",
   "mimetype": "text/x-python",
   "name": "python",
   "nbconvert_exporter": "python",
   "pygments_lexer": "ipython2",
   "version": "2.7.14"
  }
 },
 "nbformat": 4,
 "nbformat_minor": 2
}
