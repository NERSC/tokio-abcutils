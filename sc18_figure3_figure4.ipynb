{
 "cells": [
  {
   "cell_type": "code",
   "execution_count": null,
   "metadata": {},
   "outputs": [],
   "source": [
    "%matplotlib inline"
   ]
  },
  {
   "cell_type": "code",
   "execution_count": null,
   "metadata": {},
   "outputs": [],
   "source": [
    "import os\n",
    "import time\n",
    "import datetime\n",
    "import pandas\n",
    "import numpy\n",
    "import scipy.stats\n",
    "import tokio\n",
    "import abcutils\n",
    "import seaborn\n",
    "import matplotlib\n",
    "matplotlib.rcParams.update({'font.size': 16})"
   ]
  },
  {
   "cell_type": "markdown",
   "metadata": {},
   "source": [
    "## Load and Synthesize Data from CSV"
   ]
  },
  {
   "cell_type": "code",
   "execution_count": null,
   "metadata": {},
   "outputs": [],
   "source": [
    "filtered_df = abcutils.sc18paper.load_dataset()"
   ]
  },
  {
   "cell_type": "code",
   "execution_count": null,
   "metadata": {},
   "outputs": [],
   "source": [
    "TEST_PLATFORMS = [\n",
    "#   'scratch1@edison',\n",
    "    'cscratch@cori-knl',\n",
    "    'mira-fs1@mira'\n",
    "]\n",
    "BENCHMARK_IDS = [\n",
    "    'ior_shared_write',\n",
    "    'ior_fpp_write',\n",
    "    'hacc_io_write_fpp_write',\n",
    "    'vpicio_uni_shared_write',\n",
    "    'ior_shared_read',\n",
    "    'ior_fpp_read',\n",
    "    'hacc_io_read_fpp_read',\n",
    "    'dbscan_read_shared_read'\n",
    "]\n",
    "\n",
    "plot_metric = 'darshan_normalized_perf_by_max'\n",
    "\n",
    "group_by = ['_test_platform', '_benchmark_id']\n",
    "\n",
    "print(\"plot_metric =\", abcutils.CONFIG['metric_labels'].get(plot_metric, plot_metric))\n",
    "print(\"date_start =\", abcutils.sc18paper.DATE_START.isoformat())\n",
    "print(\"date_end =\", abcutils.sc18paper.DATE_END.isoformat())"
   ]
  },
  {
   "cell_type": "markdown",
   "metadata": {},
   "source": [
    "## Matplotlib Heatmap"
   ]
  },
  {
   "cell_type": "code",
   "execution_count": null,
   "metadata": {},
   "outputs": [],
   "source": [
    "# Define regions of the heatmap to zoom in on, highlight in\n",
    "# the overview, and draw accompaying graphics.  Slices are\n",
    "# expressed in indices of the numpy.array used to draw the\n",
    "# z dimension in pcolormesh.\n",
    "zoom_areas = [\n",
    "    {\n",
    "        \"x\": slice(212, 232),\n",
    "        \"y\": slice(8, 16),\n",
    "    },\n",
    "    {\n",
    "        \"x\": slice(100, 120),\n",
    "        \"y\": slice(0, 8),\n",
    "    }\n",
    "]"
   ]
  },
  {
   "cell_type": "code",
   "execution_count": null,
   "metadata": {},
   "outputs": [],
   "source": [
    "def value2label(test_platform, benchmark_id):\n",
    "    return \"%s, %s\" % (test_platform, benchmark_id)"
   ]
  },
  {
   "cell_type": "code",
   "execution_count": null,
   "metadata": {},
   "outputs": [],
   "source": [
    "columns = []\n",
    "for benchmark_id in BENCHMARK_IDS:\n",
    "    for test_platform in TEST_PLATFORMS:\n",
    "        columns.append(value2label(test_platform, benchmark_id))\n",
    "\n",
    "ts = tokio.timeseries.TimeSeries(dataset_name='blah',\n",
    "                                 start=abcutils.sc18paper.DATE_START,\n",
    "                                 end=abcutils.sc18paper.DATE_END,\n",
    "                                 timestep=86400,\n",
    "                                 num_columns=len(columns),\n",
    "                                 column_names=sorted(columns),\n",
    "                                 sort_hex=False)"
   ]
  },
  {
   "cell_type": "code",
   "execution_count": null,
   "metadata": {},
   "outputs": [],
   "source": [
    "example_df = filtered_df.copy()\n",
    "\n",
    "test_filter = example_df['_benchmark_id'].isin(BENCHMARK_IDS)\n",
    "test_filter &= example_df['_test_platform'].isin(TEST_PLATFORMS)\n",
    "rename_filter = {\n",
    "    '_datetime_start': 'datetime_start',\n",
    "    '_benchmark_id': 'benchmark_id',\n",
    "    '_test_platform': 'test_platform',\n",
    "}\n",
    "for row in example_df[test_filter].rename(rename_filter, axis='columns', inplace=False).itertuples():\n",
    "    ts.insert_element(row.datetime_start.to_pydatetime(),\n",
    "                      value2label(row.test_platform, row.benchmark_id),\n",
    "                      row._asdict()[plot_metric])"
   ]
  },
  {
   "cell_type": "code",
   "execution_count": null,
   "metadata": {},
   "outputs": [],
   "source": [
    "def draw_perf_summary(x, y, z, ax=None):\n",
    "    if ax is None:\n",
    "        fig = matplotlib.pyplot.figure()\n",
    "        fig.set_size_inches(16, (2.5 * len(TEST_PLATFORMS)))\n",
    "        fig.subplots_adjust(hspace=0.0, wspace=0.01)\n",
    "\n",
    "        gridspec = matplotlib.gridspec.GridSpec(nrows=1, ncols=2, width_ratios=[16, 1])\n",
    "\n",
    "        ax = fig.add_subplot(gridspec[0])\n",
    "    else:\n",
    "        gridspec = None\n",
    "        fig = ax.get_figure()\n",
    "\n",
    "    cmap = matplotlib.cm.gist_heat\n",
    "    cmap.set_bad(color='#666666', alpha=0.85)\n",
    "    plotface = ax.pcolormesh(x,\n",
    "                             numpy.arange(z.shape[1]+1),\n",
    "                             numpy.ma.masked_where(z.T == 0.0, z.T),\n",
    "                             cmap=cmap,\n",
    "                             linewidth=0,\n",
    "                             rasterized=True)\n",
    "\n",
    "    # Set x ticks\n",
    "    column_labels = []\n",
    "    for label in y:\n",
    "        for key, val in abcutils.CONFIG['benchmark_labels_short'].items():\n",
    "            label = label.replace(key, val)\n",
    "        label = label.replace('scratch1@edison', 'Edison')\n",
    "        label = label.replace('cscratch@cori-knl', 'Cori')\n",
    "        label = label.replace('mira-fs1@mira', 'Mira')\n",
    "        column_labels.append(label)\n",
    "    ax.set_yticks(numpy.arange(len(column_labels)) + 0.5)\n",
    "    ax.set_yticklabels(column_labels, ha='right')\n",
    "\n",
    "    abcutils.plot.fix_xticks_timeseries(ax)\n",
    "\n",
    "    if gridspec is not None:\n",
    "        # Set colorbar\n",
    "        ax = fig.add_subplot(gridspec[1])\n",
    "        cbar = matplotlib.pyplot.colorbar(plotface, cax=ax)\n",
    "        ax.set_ylabel(abcutils.CONFIG['metric_labels'].get(plot_metric, plot_metric))\n",
    "\n",
    "    return fig.axes[0]"
   ]
  },
  {
   "cell_type": "code",
   "execution_count": null,
   "metadata": {},
   "outputs": [],
   "source": [
    "x = ts.timestamps\n",
    "y = ts.columns\n",
    "z = ts.dataset\n",
    "\n",
    "ax = draw_perf_summary(x, y, z)\n",
    "\n",
    "XPAD = 2 # expand the box in x so the thick lines don't cover data we want to highlight\n",
    "for zoom in zoom_areas:\n",
    "#   print xy, width, height, ax.get_xlim(), ax.get_ylim()\n",
    "    xy = (x[zoom['x'].start - XPAD], zoom['y'].start)\n",
    "    width = x[zoom['x'].stop] - x[zoom['x'].start + XPAD]\n",
    "    height = zoom['y'].stop - zoom['y'].start \n",
    "\n",
    "    # Draw a thick black line and a thinner green line over it\n",
    "    # to make the zoomed-in region highlights stand out amidst\n",
    "    # the noisy heatmap\n",
    "    ax.add_patch(matplotlib.patches.Rectangle(\n",
    "                 xy=xy,\n",
    "                 width=width,\n",
    "                 height=height,\n",
    "                 facecolor=\"#00000000\",\n",
    "                 edgecolor='#000000FF',\n",
    "                 linewidth=8))\n",
    "\n",
    "    ax.add_patch(matplotlib.patches.Rectangle(\n",
    "                 xy=xy,\n",
    "                 width=width,\n",
    "                 height=height,\n",
    "                 facecolor=\"#00000000\",\n",
    "                 edgecolor='C2',\n",
    "                 linewidth=4))\n",
    "    \n",
    "# ax.get_figure()"
   ]
  },
  {
   "cell_type": "code",
   "execution_count": null,
   "metadata": {},
   "outputs": [],
   "source": [
    "ax.get_figure().savefig('figs/summary-heatmap.pdf', bbox_inches='tight')"
   ]
  },
  {
   "cell_type": "markdown",
   "metadata": {},
   "source": [
    "## Draw zoomed-in regions of interest"
   ]
  },
  {
   "cell_type": "code",
   "execution_count": null,
   "metadata": {},
   "outputs": [],
   "source": [
    "for zoom in zoom_areas:\n",
    "    x = ts.timestamps[zoom['x']]\n",
    "    y = ts.columns[zoom['y']]\n",
    "    z = ts.dataset[zoom['x'], zoom['y']]\n",
    "    ax = draw_perf_summary(x, y, z)\n",
    "    fig = ax.get_figure()\n",
    "    fig.set_size_inches(4, (2.5 / 8 * len(y)))\n",
    "    abcutils.plot.fix_xticks_timeseries(ax, format=\"%b %d\", criteria=(lambda x: x.weekday() == 6))\n",
    "\n",
    "    fig.axes[1].set_visible(False)\n",
    "#   for spine in ax.get_children():\n",
    "#       if isinstance(spine, matplotlib.spines.Spine):\n",
    "#           spine.set_color('C2')\n",
    "#           spine.set_linewidth(8)"
   ]
  },
  {
   "cell_type": "markdown",
   "metadata": {},
   "source": [
    "### Create a single diagram for the paper"
   ]
  },
  {
   "cell_type": "code",
   "execution_count": null,
   "metadata": {},
   "outputs": [],
   "source": [
    "fig, axes = matplotlib.pyplot.subplots(nrows=1, ncols=len(zoom_areas), figsize=(4*len(zoom_areas), 3))\n",
    "\n",
    "# Draw heatmaps\n",
    "for index, zoom in enumerate(zoom_areas):\n",
    "    ax = axes[index]\n",
    "    x = ts.timestamps[zoom['x']]\n",
    "    y = ts.columns[zoom['y']]\n",
    "    z = ts.dataset[zoom['x'], zoom['y']]\n",
    "    draw_perf_summary(x, y, z, ax=ax)\n",
    "\n",
    "# Add window dressing\n",
    "alphabet = 'abcdefg'\n",
    "for index, ax in enumerate(axes):\n",
    "    yticklabels = []\n",
    "    for label in ax.get_yticklabels():\n",
    "        machine, benchmark = label.get_text().split(', ', 1)\n",
    "        yticklabels.append(benchmark)\n",
    "    ax.set_yticklabels(yticklabels)\n",
    "    ax.set_title(\"(%s) %s\" % (alphabet[index], machine), fontsize=16)\n",
    "    abcutils.plot.fix_xticks_timeseries(ax, format=\"%b %d\", criteria=(lambda x: x.weekday() == 6))\n",
    "\n",
    "axes[1].set_yticklabels([])\n",
    "fig.subplots_adjust(hspace=0.0, wspace=0.05)\n",
    "ax.get_figure().savefig('figs/regions-heatmap.pdf', bbox_inches='tight')"
   ]
  },
  {
   "cell_type": "code",
   "execution_count": null,
   "metadata": {},
   "outputs": [],
   "source": []
  }
 ],
 "metadata": {
  "kernelspec": {
   "display_name": "Python 3",
   "language": "python",
   "name": "python3"
  },
  "language_info": {
   "codemirror_mode": {
    "name": "ipython",
    "version": 3
   },
   "file_extension": ".py",
   "mimetype": "text/x-python",
   "name": "python",
   "nbconvert_exporter": "python",
   "pygments_lexer": "ipython3",
   "version": "3.6.5"
  }
 },
 "nbformat": 4,
 "nbformat_minor": 2
}
