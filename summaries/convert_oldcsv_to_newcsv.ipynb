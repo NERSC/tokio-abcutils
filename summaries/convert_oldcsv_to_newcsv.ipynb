{
 "cells": [
  {
   "cell_type": "markdown",
   "metadata": {},
   "source": [
    "# Reformat the SC18 Mira dataset CSV"
   ]
  },
  {
   "cell_type": "code",
   "execution_count": 1,
   "metadata": {},
   "outputs": [],
   "source": [
    "%matplotlib inline"
   ]
  },
  {
   "cell_type": "code",
   "execution_count": 2,
   "metadata": {},
   "outputs": [],
   "source": [
    "import datetime\n",
    "import pytz\n",
    "import pandas"
   ]
  },
  {
   "cell_type": "code",
   "execution_count": 3,
   "metadata": {},
   "outputs": [],
   "source": [
    "orig_df = pandas.read_csv('alcf-tokio-results-2_14_17-2_15_18.csv.gz')\n",
    "new_df = pandas.read_csv('mira-summaries_2017-02-14_2018-02-15.csv.gz')"
   ]
  },
  {
   "cell_type": "code",
   "execution_count": 4,
   "metadata": {},
   "outputs": [
    {
     "name": "stdout",
     "output_type": "stream",
     "text": [
      "Which columns are inconsistent?\n",
      "\n",
      "Unnamed: 0 in orig_df; not in new_df\n",
      "index in orig_df; not in new_df\n"
     ]
    }
   ],
   "source": [
    "print(\"Which columns are inconsistent?\\n\")\n",
    "_tmp_list = list(new_df.columns)\n",
    "for col in list(orig_df.columns):\n",
    "    if col not in _tmp_list:\n",
    "        print(\"%s in orig_df; not in new_df\" % col)\n",
    "        \n",
    "_tmp_list = list(orig_df.columns)\n",
    "for col in list(new_df.columns):\n",
    "    if col not in _tmp_list:\n",
    "        print(\"%s in new_df; not in orig_df\" % col)"
   ]
  },
  {
   "cell_type": "markdown",
   "metadata": {},
   "source": [
    "The original CSV had timestamps formatted as strings in the Chicago time zone"
   ]
  },
  {
   "cell_type": "code",
   "execution_count": 5,
   "metadata": {
    "scrolled": true
   },
   "outputs": [
    {
     "data": {
      "text/plain": [
       "0    2017-02-14 22:40:35\n",
       "1    2017-02-14 22:42:29\n",
       "2    2017-02-14 22:43:56\n",
       "3    2017-02-14 22:47:55\n",
       "4    2017-02-14 22:50:26\n",
       "Name: _datetime_start, dtype: object"
      ]
     },
     "execution_count": 5,
     "metadata": {},
     "output_type": "execute_result"
    }
   ],
   "source": [
    "orig_df['_datetime_start'].head()"
   ]
  },
  {
   "cell_type": "markdown",
   "metadata": {},
   "source": [
    "The new CSV's epoch timestamps were made without awareness that the date strings in the original were measured in a different time zone than the system here.  This caused the timestamps to be off by a few hours."
   ]
  },
  {
   "cell_type": "code",
   "execution_count": 6,
   "metadata": {},
   "outputs": [
    {
     "data": {
      "text/plain": [
       "0    1487112035\n",
       "1    1487112149\n",
       "2    1487112236\n",
       "3    1487112475\n",
       "4    1487112626\n",
       "Name: _datetime_start, dtype: int64"
      ]
     },
     "execution_count": 6,
     "metadata": {},
     "output_type": "execute_result"
    }
   ],
   "source": [
    "new_df['_datetime_start'].head()"
   ]
  },
  {
   "cell_type": "markdown",
   "metadata": {},
   "source": [
    "This is how we localize the string-based timestamps and convert them into true (UTC-based) epoch timestamps."
   ]
  },
  {
   "cell_type": "code",
   "execution_count": 7,
   "metadata": {},
   "outputs": [
    {
     "name": "stdout",
     "output_type": "stream",
     "text": [
      "2017-02-14 22:40:35 1487133635\n",
      "2017-02-14 22:42:29 1487133749\n",
      "2017-02-14 22:43:56 1487133836\n",
      "2017-02-14 22:47:55 1487134075\n",
      "2017-02-14 22:50:26 1487134226\n"
     ]
    }
   ],
   "source": [
    "tz_chicago = pytz.timezone(\"America/Chicago\")\n",
    "for date_str in orig_df['_datetime_start'].head().values:\n",
    "    datetime_obj = datetime.datetime.strptime(date_str, \"%Y-%m-%d %H:%M:%S\")\n",
    "    datetime_obj_tz = tz_chicago.localize(datetime_obj)\n",
    "    print(date_str, int(datetime_obj_tz.timestamp()))"
   ]
  },
  {
   "cell_type": "code",
   "execution_count": null,
   "metadata": {},
   "outputs": [],
   "source": []
  }
 ],
 "metadata": {
  "kernelspec": {
   "display_name": "Python 3",
   "language": "python",
   "name": "python3"
  },
  "language_info": {
   "codemirror_mode": {
    "name": "ipython",
    "version": 3
   },
   "file_extension": ".py",
   "mimetype": "text/x-python",
   "name": "python",
   "nbconvert_exporter": "python",
   "pygments_lexer": "ipython3",
   "version": "3.6.5"
  }
 },
 "nbformat": 4,
 "nbformat_minor": 2
}
