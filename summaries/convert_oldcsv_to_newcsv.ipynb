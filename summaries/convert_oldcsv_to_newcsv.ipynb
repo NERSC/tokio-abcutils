{
 "cells": [
  {
   "cell_type": "markdown",
   "metadata": {},
   "source": [
    "# Reformat the SC18 Mira dataset CSV"
   ]
  },
  {
   "cell_type": "code",
   "execution_count": null,
   "metadata": {},
   "outputs": [],
   "source": [
    "%matplotlib inline"
   ]
  },
  {
   "cell_type": "code",
   "execution_count": null,
   "metadata": {},
   "outputs": [],
   "source": [
    "import datetime\n",
    "import pytz\n",
    "import pandas"
   ]
  },
  {
   "cell_type": "code",
   "execution_count": null,
   "metadata": {},
   "outputs": [],
   "source": [
    "orig_df = pandas.read_csv('alcf-tokio-results-2_14_17-2_15_18.csv.gz', dtype=str)#float_precision='high')\n",
    "new_df = pandas.read_csv('mira-summaries_2017-02-14_2018-02-15.csv.gz')"
   ]
  },
  {
   "cell_type": "code",
   "execution_count": null,
   "metadata": {},
   "outputs": [],
   "source": [
    "print(\"Which columns are inconsistent?\\n\")\n",
    "_tmp_list = list(new_df.columns)\n",
    "for col in list(orig_df.columns):\n",
    "    if col not in _tmp_list:\n",
    "        print(\"%s in orig_df; not in new_df\" % col)\n",
    "        \n",
    "_tmp_list = list(orig_df.columns)\n",
    "for col in list(new_df.columns):\n",
    "    if col not in _tmp_list:\n",
    "        print(\"%s in new_df; not in orig_df\" % col)"
   ]
  },
  {
   "cell_type": "markdown",
   "metadata": {},
   "source": [
    "The original CSV had timestamps formatted as strings in the Chicago time zone"
   ]
  },
  {
   "cell_type": "code",
   "execution_count": null,
   "metadata": {},
   "outputs": [],
   "source": [
    "orig_df['_datetime_start'].head()"
   ]
  },
  {
   "cell_type": "markdown",
   "metadata": {},
   "source": [
    "The new CSV's epoch timestamps were made without awareness that the date strings in the original were measured in a different time zone than the system here.  This caused the timestamps to be off by a few hours."
   ]
  },
  {
   "cell_type": "code",
   "execution_count": null,
   "metadata": {},
   "outputs": [],
   "source": [
    "new_df['_datetime_start'].head()"
   ]
  },
  {
   "cell_type": "markdown",
   "metadata": {},
   "source": [
    "This is how we localize the string-based timestamps and convert them into true (UTC-based) epoch timestamps."
   ]
  },
  {
   "cell_type": "code",
   "execution_count": null,
   "metadata": {},
   "outputs": [],
   "source": [
    "tz_chicago = pytz.timezone(\"America/Chicago\")\n",
    "for date_str in orig_df['_datetime_start'].head().values:\n",
    "    datetime_obj = datetime.datetime.strptime(date_str, \"%Y-%m-%d %H:%M:%S\")\n",
    "    datetime_obj_tz = tz_chicago.localize(datetime_obj)\n",
    "    print(date_str, int(datetime_obj_tz.timestamp()))"
   ]
  },
  {
   "cell_type": "code",
   "execution_count": null,
   "metadata": {},
   "outputs": [],
   "source": [
    "iloc = 0\n",
    "ndiffrows = 0\n",
    "nsamerows = 0\n",
    "for key, val in orig_df.iloc[iloc].iteritems():\n",
    "    if key not in new_df.iloc[iloc]:\n",
    "        print(\"%s does not exist\" % key)\n",
    "        continue\n",
    "    if key[0] == \"_\":\n",
    "        continue\n",
    "        \n",
    "    if val != new_df[key].iloc[iloc]:\n",
    "        print(\"%s differs (orig=%s, new=%s)\" % (key, val, new_df[key].iloc[iloc]))\n",
    "        ndiffrows += 1\n",
    "    else:\n",
    "        nsamerows += 1\n",
    "\n",
    "print(\"%d keys differ\" % ndiffrows)\n",
    "print(\"%d keys same\" % nsamerows)"
   ]
  },
  {
   "cell_type": "code",
   "execution_count": null,
   "metadata": {},
   "outputs": [],
   "source": [
    "tz_chicago = pytz.timezone(\"America/Chicago\")\n",
    "\n",
    "new_vals = {\n",
    "    '_datetime_start': [],\n",
    "    '_datetime_end': []\n",
    "}\n",
    "for col_name in new_vals:\n",
    "    for date_str in orig_df[col_name].values:\n",
    "        datetime_obj = datetime.datetime.strptime(date_str, \"%Y-%m-%d %H:%M:%S\")\n",
    "        datetime_obj_tz = tz_chicago.localize(datetime_obj)\n",
    "        new_vals[col_name].append(int(datetime_obj_tz.timestamp()))"
   ]
  },
  {
   "cell_type": "code",
   "execution_count": null,
   "metadata": {},
   "outputs": [],
   "source": [
    "for col_name in new_vals:\n",
    "    orig_df[col_name] = new_vals[col_name]"
   ]
  },
  {
   "cell_type": "code",
   "execution_count": null,
   "metadata": {},
   "outputs": [],
   "source": [
    "orig_df.drop(columns=['Unnamed: 0', 'index']).to_csv('alcf_fixed.csv')"
   ]
  },
  {
   "cell_type": "code",
   "execution_count": null,
   "metadata": {},
   "outputs": [],
   "source": [
    "fixed_df = pandas.read_csv('alcf_fixed.csv', index_col=0)\n",
    "orig_df = pandas.read_csv('alcf-tokio-results-2_14_17-2_15_18.csv.gz')"
   ]
  },
  {
   "cell_type": "code",
   "execution_count": null,
   "metadata": {},
   "outputs": [],
   "source": [
    "for col in fixed_df.columns:\n",
    "    if not (orig_df[col] == fixed_df[col]).all():\n",
    "        print(col, (orig_df[col] != fixed_df[col]).sum())\n",
    "        if col[0] != \"_\":\n",
    "            for index, value in orig_df[col].iteritems():\n",
    "                if value != fixed_df[col].loc[index] and not pandas.isna(value) and not pandas.isna(fixed_df[col].loc[index]):\n",
    "                    print(index, value, fixed_df[col].loc[index])"
   ]
  },
  {
   "cell_type": "code",
   "execution_count": null,
   "metadata": {},
   "outputs": [],
   "source": [
    "orig_df['darshan_agg_perf_by_slowest_posix'] - fixed_df['darshan_agg_perf_by_slowest_posix']"
   ]
  },
  {
   "cell_type": "code",
   "execution_count": null,
   "metadata": {},
   "outputs": [],
   "source": [
    "import numpy"
   ]
  },
  {
   "cell_type": "code",
   "execution_count": null,
   "metadata": {},
   "outputs": [],
   "source": [
    "numpy.nan == numpy.nan"
   ]
  },
  {
   "cell_type": "code",
   "execution_count": null,
   "metadata": {},
   "outputs": [],
   "source": []
  }
 ],
 "metadata": {
  "kernelspec": {
   "display_name": "Python 3",
   "language": "python",
   "name": "python3"
  },
  "language_info": {
   "codemirror_mode": {
    "name": "ipython",
    "version": 3
   },
   "file_extension": ".py",
   "mimetype": "text/x-python",
   "name": "python",
   "nbconvert_exporter": "python",
   "pygments_lexer": "ipython3",
   "version": "3.6.5"
  }
 },
 "nbformat": 4,
 "nbformat_minor": 2
}
