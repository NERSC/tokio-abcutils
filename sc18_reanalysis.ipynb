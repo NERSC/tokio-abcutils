{
 "cells": [
  {
   "cell_type": "code",
   "execution_count": null,
   "metadata": {},
   "outputs": [],
   "source": [
    "%matplotlib inline"
   ]
  },
  {
   "cell_type": "code",
   "execution_count": null,
   "metadata": {},
   "outputs": [],
   "source": [
    "import matplotlib\n",
    "import pandas\n",
    "import numpy\n",
    "import scipy.stats\n",
    "import abcutils"
   ]
  },
  {
   "cell_type": "markdown",
   "metadata": {},
   "source": [
    "## Global Analysis Constants"
   ]
  },
  {
   "cell_type": "code",
   "execution_count": null,
   "metadata": {},
   "outputs": [],
   "source": [
    "FILE_SYSTEMS = [ 'scratch1', 'scratch2', 'scratch3', 'cscratch' ]"
   ]
  },
  {
   "cell_type": "markdown",
   "metadata": {},
   "source": [
    "## Load and Synthesize Data from CSV"
   ]
  },
  {
   "cell_type": "code",
   "execution_count": null,
   "metadata": {},
   "outputs": [],
   "source": [
    "df = pandas.concat([abcutils.load_and_synthesize_csv('summaries/edison-summaries_2017-02-14-2017-12-30.csv'),\n",
    "                    abcutils.load_and_synthesize_csv('summaries/cori-summaries_2017-02-14-2017-12-31.csv')],\n",
    "                   axis='rows')"
   ]
  },
  {
   "cell_type": "markdown",
   "metadata": {},
   "source": [
    "## Correlation Table"
   ]
  },
  {
   "cell_type": "code",
   "execution_count": null,
   "metadata": {
    "scrolled": false
   },
   "outputs": [],
   "source": [
    "pandas.options.display.max_rows = 20\n",
    "\n",
    "correlation = abcutils.correlation.calc_correlation_vector(df, correlate_with='darshan_normalized_perf_by_max')\n",
    "\n",
    "filtered_correlations = abcutils.apply_filters(correlation, [correlation['p-value'] < 1.0e-5], verbose=True)\n",
    "filtered_correlations.sort_values('coefficient')"
   ]
  },
  {
   "cell_type": "code",
   "execution_count": null,
   "metadata": {
    "scrolled": false
   },
   "outputs": [],
   "source": [
    "ax = abcutils.plot.correlation_vector_table(filtered_correlations, row_name_map=abcutils.CONFIG['metric_labels'])\n",
    "ax.get_figure().set_size_inches(4, 0.4 * len(filtered_correlations))"
   ]
  },
  {
   "cell_type": "code",
   "execution_count": null,
   "metadata": {
    "scrolled": false
   },
   "outputs": [],
   "source": [
    "correlations = None\n",
    "for fs in FILE_SYSTEMS:\n",
    "    # generate a single file system's correlation vector\n",
    "    correlation = abcutils.correlation.calc_correlation_vector(\n",
    "        df[df['_file_system'] == fs],\n",
    "        correlate_with='darshan_normalized_perf_by_max')\n",
    "            \n",
    "    # rename the columns in this vector to include the file system name\n",
    "    new_cols = {}\n",
    "    for index, col_name in enumerate(correlation.columns):\n",
    "        new_cols[col_name] = \"%s %s\" % (fs, col_name)\n",
    "    correlation.rename(columns=new_cols, inplace=True)\n",
    "    \n",
    "    # join the vector to the previous vectors' dataframe\n",
    "    if correlations is None:\n",
    "        correlations = correlation\n",
    "    else:\n",
    "        correlations = pandas.concat([correlations, correlation], axis='columns')\n",
    "\n",
    "correlations"
   ]
  },
  {
   "cell_type": "code",
   "execution_count": null,
   "metadata": {},
   "outputs": [],
   "source": [
    "# Construct filter to show any metric that registered a low p-value for _any_ file system\n",
    "filters = None\n",
    "for fs in FILE_SYSTEMS:\n",
    "    subfilter = correlations['%s p-value' % fs] < 1.0e-5\n",
    "    if filters is None:\n",
    "        filters = subfilter\n",
    "    else:\n",
    "        filters |= subfilter\n",
    "\n",
    "ax = abcutils.plot.correlation_vector_table(\n",
    "    correlations[filters],\n",
    "    row_name_map=abcutils.CONFIG['metric_labels'])\n",
    "\n",
    "# Set the table width larger if displaying lots of metrics\n",
    "ax.get_figure().set_size_inches(12, 0.4 * len(correlations[filters]))"
   ]
  },
  {
   "cell_type": "markdown",
   "metadata": {},
   "source": [
    "## Boxplots"
   ]
  },
  {
   "cell_type": "code",
   "execution_count": null,
   "metadata": {},
   "outputs": [],
   "source": [
    "boxplot_settings = {\n",
    "    'fontsize': 20,\n",
    "    'darshan_normalized_perf_by_max': {\n",
    "        'output_file': \"perf-boxplots.pdf\",\n",
    "        'ylabel': \"Fraction of\\nPeak Performance\",\n",
    "        'title_pos': [ \n",
    "            {'x': 0.04, 'y': 0.02, 'horizontalalignment': 'left', 'fontsize': 14},\n",
    "            {'x': 0.04, 'y': 0.02, 'horizontalalignment': 'left', 'fontsize': 14}]\n",
    "    },\n",
    "}"
   ]
  },
  {
   "cell_type": "code",
   "execution_count": null,
   "metadata": {
    "scrolled": false
   },
   "outputs": [],
   "source": [
    "NUM_ROWS = 2\n",
    "NUM_COLS = 2\n",
    "fig, axes = matplotlib.pyplot.subplots(nrows=NUM_ROWS,\n",
    "                                       ncols=NUM_COLS,\n",
    "                                       # sharex causes problems if not all axes contain data\n",
    "                                       #sharex=True,\n",
    "                                       sharey=True)\n",
    "fig.set_size_inches(8,6)\n",
    "\n",
    "SUBPLOT_ARRANGEMENT = {\n",
    "    'scratch1': axes[0, 0],\n",
    "    'scratch2': axes[1, 0],\n",
    "    'scratch3': axes[0, 1],\n",
    "    'cscratch': axes[1, 1]\n",
    "}\n",
    "NULL_SUBPLOTS = [\n",
    "#    axes[0, 1],\n",
    "]\n",
    "\n",
    "### Draw subplots that contain data\n",
    "for index, fs in enumerate(sorted(SUBPLOT_ARRANGEMENT.keys())):\n",
    "    irow = index / NUM_COLS\n",
    "    ax = SUBPLOT_ARRANGEMENT[fs]\n",
    "    abcutils.plot.grouped_boxplot(df[df[\"_file_system\"] == fs],\n",
    "                                       'darshan_normalized_perf_by_max',\n",
    "                                       ax=ax,\n",
    "                                       fontsize=16)\n",
    "    title = ax.set_title(fs, **(boxplot_settings['darshan_normalized_perf_by_max']['title_pos'][irow]))\n",
    "    title.set_bbox({'color': 'white', 'alpha': 0.5})\n",
    "\n",
    "### Hide subplots that do not contain data\n",
    "for ax in NULL_SUBPLOTS:\n",
    "    ax.set_visible(False)\n",
    "\n",
    "### Set global figure labels \n",
    "fig.suptitle(\"\")\n",
    "fig.text(0.0, 0.5,\n",
    "         boxplot_settings['darshan_normalized_perf_by_max']['ylabel'],\n",
    "         verticalalignment='center',\n",
    "         horizontalalignment='center',\n",
    "         rotation='vertical',\n",
    "         fontsize=boxplot_settings['fontsize'])\n",
    "fig.subplots_adjust(hspace=0.05, wspace=0.05)"
   ]
  },
  {
   "cell_type": "markdown",
   "metadata": {},
   "source": [
    "## Scatter Plots"
   ]
  },
  {
   "cell_type": "code",
   "execution_count": null,
   "metadata": {},
   "outputs": [],
   "source": [
    "plot_metrics = [\n",
    "    'coverage_factor_bw',\n",
    "    'coverage_factor_nodehrs',\n",
    "    'fshealth_ost_most_full_pct',\n",
    "    'fs_tot_openclose_ops',\n",
    "    'fs_tot_metadata_ops',\n",
    "]"
   ]
  },
  {
   "cell_type": "code",
   "execution_count": null,
   "metadata": {},
   "outputs": [],
   "source": [
    "y_key = 'coverage_factor_bw'\n",
    "\n",
    "df.loc[ (df[y_key] < 0.99) & (df[y_key] >= 0.01) ][y_key]"
   ]
  },
  {
   "cell_type": "code",
   "execution_count": null,
   "metadata": {
    "scrolled": false
   },
   "outputs": [],
   "source": [
    "for fs in FILE_SYSTEMS:\n",
    "    df_plot = df[df['_file_system'] == fs].dropna()\n",
    "    for metric in plot_metrics:\n",
    "        x_key = 'darshan_normalized_perf_by_max'\n",
    "        y_key = metric\n",
    "\n",
    "        ### throw out extremities in data\n",
    "        y_min = numpy.percentile(df_plot[y_key].values, 0)\n",
    "        y_max = numpy.percentile(df_plot[y_key].values, 95)\n",
    "        filter_vector = (df_plot[y_key] < y_max) & (df_plot[y_key] >= y_min)\n",
    "        x = df_plot.loc[filter_vector][x_key]\n",
    "        y = df_plot.loc[filter_vector][y_key]\n",
    "\n",
    "        ### or plot all of the data\n",
    "#       x = df[x_key].values\n",
    "#       y = df[y_key].values\n",
    "\n",
    "        x_label = abcutils.CONFIG['metric_labels'].get(x_key, x_key)\n",
    "        y_label = abcutils.CONFIG['metric_labels'].get(y_key, y_key)\n",
    "\n",
    "        fig, ax = matplotlib.pyplot.subplots(figsize=(6,4))\n",
    "        ax.hexbin(x, y, gridsize=10, cmap='PuRd')\n",
    "        ax.plot(x, y, 'o', alpha=0.05)\n",
    "\n",
    "        ### attempt a linear fit to generate a visual aid\n",
    "        m, b = numpy.polyfit(x, y, 1)\n",
    "        ax.plot(x, m*x+b, \"-\")\n",
    "\n",
    "\n",
    "        ax.set_ylim((y_min, y_max))\n",
    "\n",
    "        ### add window dressing to plots\n",
    "        fig.suptitle('Correlation between %s and %s (%s)' \n",
    "                      % (x_label.split('(',1)[0].strip(),\n",
    "                         y_label.split('(',1)[0].strip(),\n",
    "                         fs))\n",
    "        pearson_r, pval = scipy.stats.pearsonr(x, y)\n",
    "        ax.set_title(\"Coefficient=%.4f, P-value=%.2g\" \n",
    "                        % (pearson_r, pval), fontsize=14 )\n",
    "        ax.set_xlabel(x_label)\n",
    "        ax.set_ylabel(y_label)\n",
    "        ax.grid(True)\n",
    "    #   output_file = \"scatter_%s_vs_%s.pdf\" % (x_key, y_key)\n",
    "    #   fig.savefig(output_file, bbox_inches=\"tight\")\n",
    "    #   print \"Saved %s\" % output_file"
   ]
  },
  {
   "cell_type": "markdown",
   "metadata": {},
   "source": [
    "## Histogram of Coverage Factor"
   ]
  },
  {
   "cell_type": "code",
   "execution_count": null,
   "metadata": {},
   "outputs": [],
   "source": [
    "NUM_ROWS = 2\n",
    "NUM_COLS = 2\n",
    "fig, axes = matplotlib.pyplot.subplots(nrows=NUM_ROWS,\n",
    "                                       ncols=NUM_COLS,\n",
    "                                       # sharex causes problems if not all axes contain data\n",
    "                                       #sharex=True,\n",
    "                                       sharey=True)\n",
    "fig.set_size_inches(10,8)\n",
    "\n",
    "SUBPLOT_ARRANGEMENT = {\n",
    "    'scratch1': axes[0, 0],\n",
    "    'scratch2': axes[1, 0],\n",
    "    'scratch3': axes[0, 1],\n",
    "    'cscratch': axes[1, 1]\n",
    "}\n",
    "NULL_SUBPLOTS = [\n",
    "#    axes[0, 1],\n",
    "]\n",
    "\n",
    "### Draw subplots that contain data\n",
    "for index, fs in enumerate(sorted(SUBPLOT_ARRANGEMENT.keys())):\n",
    "    irow = index / NUM_COLS\n",
    "    ax = SUBPLOT_ARRANGEMENT[fs]\n",
    "\n",
    "    y1 = df[df['_file_system'] == fs]['coverage_factor_bw'].dropna()\n",
    "    y2 = df[df['_file_system'] == fs]['coverage_factor_nodehrs'].dropna()\n",
    "    common_opts = {\n",
    "        \"width\": 1.0/15.0,\n",
    "        \"bins\": numpy.linspace(0.0, 1.0, 15),\n",
    "        \"alpha\": 0.75,\n",
    "        \"linewidth\": 3.0,\n",
    "    #   \"zorder\": 9,\n",
    "    }\n",
    "\n",
    "    for y, label in [(y1, 'Coverage Factor (BW)'), (y2, 'Coverage Factor (NodeHrs)')]:\n",
    "        ax.hist(y, label=label, **common_opts)\n",
    "\n",
    "    ax.set_title(fs, fontsize=20)\n",
    "    ax.set_xlabel(\"Coverage Factor\", fontsize=16)\n",
    "    ax.set_ylabel(\"Frequency\", fontsize=16)\n",
    "    ax.legend(fontsize=12)\n",
    "    ax.yaxis.grid()\n",
    "    ax.set_yscale(\"log\")\n",
    "    ax.set_ylim([1, 1e4])\n",
    "    ax.xaxis.set_tick_params(labelsize=14)\n",
    "    ax.yaxis.set_tick_params(labelsize=14)\n",
    "    ax.label_outer()\n",
    "\n",
    "    title = ax.set_title(fs, **(boxplot_settings['darshan_normalized_perf_by_max']['title_pos'][irow]))\n",
    "    title.set_bbox({'color': 'white', 'alpha': 0.5})\n",
    "\n",
    "### Hide subplots that do not contain data\n",
    "for ax in NULL_SUBPLOTS:\n",
    "    ax.set_visible(False)\n",
    "\n",
    "### Set global figure labels \n",
    "fig.suptitle(\"\")\n",
    "fig.subplots_adjust(hspace=0.05, wspace=0.05)"
   ]
  },
  {
   "cell_type": "markdown",
   "metadata": {},
   "source": [
    "## Umami Diagrams"
   ]
  },
  {
   "cell_type": "code",
   "execution_count": null,
   "metadata": {},
   "outputs": [],
   "source": [
    "import time\n",
    "import datetime\n",
    "import tokio.tools.umami"
   ]
  },
  {
   "cell_type": "code",
   "execution_count": null,
   "metadata": {
    "scrolled": false
   },
   "outputs": [],
   "source": [
    "umami_diagrams = [\n",
    "    # The \"I/O contention\" case study figure\n",
    "    {\n",
    "        'filters': [\n",
    "            df['_file_system'] == 'scratch2',\n",
    "            df['darshan_app'] == 'hacc_io_write',\n",
    "            df['darshan_read_or_write_job'] == 'write',\n",
    "            df['_datetime_start'] > datetime.datetime(2017, 2, 14),\n",
    "            df['_datetime_start'] < datetime.datetime(2017, 3, 3, 0, 0, 0),\n",
    "        ],\n",
    "        'rows': [\n",
    "            'darshan_agg_perf_by_slowest_posix',\n",
    "            'coverage_factor_bw',\n",
    "            'coverage_factor_nodehrs',\n",
    "            'fs_ave_mds_cpu',\n",
    "            'fs_tot_open_ops',\n",
    "            'topology_job_max_radius',\n",
    "        ],\n",
    "    },\n",
    "    # The \"storage capacity\" case study figure\n",
    "    {\n",
    "        'filters': [\n",
    "            df['_file_system'] == 'scratch3',\n",
    "            df['darshan_app'] == 'hacc_io_write',\n",
    "            df['darshan_read_or_write_job'] == 'write',\n",
    "            df['_datetime_start'] > datetime.datetime(2017, 2, 21, 0, 0, 0),\n",
    "            df['_datetime_start'] < datetime.datetime(2017, 3, 15, 0, 0, 0),\n",
    "        ],\n",
    "        'rows': [\n",
    "            'darshan_agg_perf_by_slowest_posix',\n",
    "            'coverage_factor_bw',\n",
    "            'fs_max_oss_cpu',\n",
    "            'fshealth_ost_most_full_pct',\n",
    "        ],\n",
    "    },\n",
    "]\n",
    "\n",
    "pandas.options.display.max_rows = 11\n",
    "filtered_df = abcutils.apply_filters(df, umami_diagrams[0]['filters'], verbose=True)\n",
    "filtered_df.head().T"
   ]
  },
  {
   "cell_type": "code",
   "execution_count": null,
   "metadata": {},
   "outputs": [],
   "source": [
    "for umami_diagram in umami_diagrams:\n",
    "    filtered_df = abcutils.apply_filters(df, umami_diagram['filters'], verbose=True)\n",
    "    fig = abcutils.plot.generate_umami(filtered_df, umami_diagram['rows'])"
   ]
  },
  {
   "cell_type": "code",
   "execution_count": null,
   "metadata": {},
   "outputs": [],
   "source": []
  }
 ],
 "metadata": {
  "kernelspec": {
   "display_name": "Python 2",
   "language": "python",
   "name": "python2"
  },
  "language_info": {
   "codemirror_mode": {
    "name": "ipython",
    "version": 2
   },
   "file_extension": ".py",
   "mimetype": "text/x-python",
   "name": "python",
   "nbconvert_exporter": "python",
   "pygments_lexer": "ipython2",
   "version": "2.7.14"
  }
 },
 "nbformat": 4,
 "nbformat_minor": 2
}
